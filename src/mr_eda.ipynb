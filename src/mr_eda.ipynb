{
 "cells": [
  {
   "cell_type": "code",
   "execution_count": 1,
   "metadata": {},
   "outputs": [],
   "source": [
    "import pandas as pd \n",
    "import matplotlib.pyplot as plt\n",
    "import datetime\n",
    "import numpy as np\n",
    "import os\n",
    "import sys\n",
    "import seaborn as sns\n",
    "\n",
    "\n",
    "import pylab as pl"
   ]
  },
  {
   "cell_type": "code",
   "execution_count": 72,
   "metadata": {},
   "outputs": [
    {
     "data": {
      "text/plain": [
       "['data.py', 'mr_eda.ipynb', '.ipynb_checkpoints', 'analysis.py', 'features.py']"
      ]
     },
     "execution_count": 72,
     "metadata": {},
     "output_type": "execute_result"
    }
   ],
   "source": [
    "os.listdir()"
   ]
  },
  {
   "cell_type": "code",
   "execution_count": 74,
   "metadata": {},
   "outputs": [],
   "source": [
    "fp = '/teams/DSC180A_FA20_A00/b05vpnxray/group2_data/data'\n",
    "filelist = os.listdir(fp)"
   ]
  },
  {
   "cell_type": "code",
   "execution_count": 4,
   "metadata": {},
   "outputs": [],
   "source": [
    "def label_identifyer(x):\n",
    "    if 'netflix' in x:\n",
    "        return 'Netflix'\n",
    "    if 'prime' in x:\n",
    "        return 'Amazon Prime'\n",
    "    if 'youtube' in x:\n",
    "        return 'Youtube'\n",
    "    else:\n",
    "        return 'Other'"
   ]
  },
  {
   "cell_type": "code",
   "execution_count": 75,
   "metadata": {},
   "outputs": [
    {
     "data": {
      "text/plain": [
       "['jeq004_netflix_1080p_1x_vpn_mac_clean_20210106b-8.csv',\n",
       " 'jeq004_netflix_1080p_1x_vpn_mac_clean_20210107-16.csv',\n",
       " 'jeq004_netflix_1080p_1x_vpn_mac_clean_20210105-9.csv',\n",
       " 'jeq004_discovery_1080p_1x_vpn_mac_clean_20210125-8.csv',\n",
       " 'chang_amazonprime_3.csv',\n",
       " 'jeq004_netflix_1080p_1x_vpn_mac_clean_20210104-27.csv',\n",
       " 'chang_amazonprime_4.csv',\n",
       " 'jeq004_netflix_1080p_1x_vpn_mac_clean_20210104-20.csv',\n",
       " 'jeq004_netflix_1080p_1x_vpn_mac_clean_20210106b-20.csv',\n",
       " 'jeq004_netflix_1080p_1x_vpn_mac_clean_20210107-11.csv',\n",
       " 'chang_amazonprime_24.csv',\n",
       " 'arv020_hulu_1080p_1x_vpn_mac_clean_15.csv',\n",
       " 'jeq004_netflix_1080p_1x_vpn_mac_clean_20210106b-1.csv',\n",
       " 'jeq004_youtube_1080p_1x_vpn_mac_clean_20210109-2.csv',\n",
       " 'jeq004_netflix_1080p_1x_vpn_mac_clean_20210105-0.csv',\n",
       " 'jeq004_discovery_1080p_1x_vpn_mac_clean_20210125-1.csv',\n",
       " 'jeq004_netflix_1080p_1x_vpn_mac_clean_20210106b-6.csv',\n",
       " 'jeq004_youtube_1080p_1x_vpn_mac_clean_20210109-5.csv',\n",
       " 'jeq004_netflix_1080p_1x_vpn_mac_clean_20210107-18.csv',\n",
       " 'jeq004_discovery_1080p_1x_vpn_mac_clean_20210125-6.csv',\n",
       " 'jeq004_netflix_1080p_1x_vpn_mac_clean_20210105-7.csv',\n",
       " 'chang_amazonprime_23.csv',\n",
       " 'jeq004_netflix_1080p_1x_vpn_mac_clean_20210104-29.csv',\n",
       " 'arv020_hulu_1080p_1x_vpn_mac_clean_12.csv',\n",
       " 'mhrowlan-youtube-1x-vpn-mac-clean-20210108zz.csv',\n",
       " 'arv020_amazonprime_1080p_1x_vpn_mac_clean_1.csv',\n",
       " 'arv020_amazonprime_1080p_1x_vpn_mac_clean_46.csv',\n",
       " 'chang_youtube_7.csv',\n",
       " 'chang_amazonprime_16.csv',\n",
       " 'jeq004_netflix_1080p_1x_vpn_mac_clean_20210107-1.csv',\n",
       " 'arv020_hulu_1080p_1x_vpn_mac_clean_27.csv',\n",
       " 'chang_youtube_19.csv',\n",
       " 'chang_amazonprime_11.csv',\n",
       " 'mhrowlan-youtube-1x-vpn-mac-clean-20210108pp.csv',\n",
       " 'jeq004_netflix_1080p_1x_vpn_mac_clean_20210107-6.csv',\n",
       " 'arv020_hulu_1080p_1x_vpn_mac_clean_20.csv',\n",
       " 'arv020_amazonprime_1080p_1x_vpn_mac_clean_6.csv',\n",
       " 'arv020_amazonprime_1080p_1x_vpn_mac_clean_41.csv',\n",
       " 'arv020_hulu_1080p_1x_vpn_mac_clean_3.csv',\n",
       " 'mhrowlan-disney-33.csv',\n",
       " 'chang_youtube_17.csv',\n",
       " 'jeq004_netflix_1080p_1x_vpn_mac_clean_20210107-8.csv',\n",
       " 'arv020_amazonprime_1080p_1x_vpn_mac_clean_33.csv',\n",
       " 'mhrowlan-youtube-1x-vpn-mac-clean-20210108nn.csv',\n",
       " 'jeq004_netflix_1080p_1x_vpn_mac_clean_20210104-15.csv',\n",
       " 'arv020_amazonprime_1080p_1x_vpn_mac_clean_8.csv',\n",
       " 'jeq004_netflix_1080p_1x_vpn_mac_clean_20210106b-15.csv',\n",
       " 'jeq004_netflix_1080p_1x_vpn_mac_clean_20210106b-12.csv',\n",
       " 'mhrowlan-youtube-1x-vpn-mac-clean-20210108dd.csv',\n",
       " 'arv020_amazonprime_1080p_1x_vpn_mac_clean_48.csv',\n",
       " 'chang_youtube_9.csv',\n",
       " 'arv020_hulu_1080p_1x_vpn_mac_clean_4.csv',\n",
       " 'chang_youtube_10.csv',\n",
       " 'mhrowlan-disney-34.csv',\n",
       " 'chang_amazonprime_18.csv',\n",
       " 'arv020_hulu_1080p_1x_vpn_mac_clean_29.csv',\n",
       " 'arv020_amazonprime_1080p_1x_vpn_mac_clean_34.csv',\n",
       " 'jeq004_netflix_1080p_1x_vpn_mac_clean_20210104-12.csv',\n",
       " 'jeq004_netflix_1080p_1x_vpn_mac_clean_20210108-18.csv',\n",
       " 'mhrowlan-youtube-1x-vpn-mac-clean-20210108ee.csv',\n",
       " 'arv020_amazonprime_1080p_1x_vpn_mac_clean_59.csv',\n",
       " 'jeq004_netflix_1080p_1x_vpn_mac_clean_20210105-11.csv',\n",
       " 'jeq004_netflix_1080p_1x_vpn_mac_clean_20210108-7.csv',\n",
       " 'jeq004_netflix_1080p_1x_vpn_mac_clean_20210106-20.csv',\n",
       " 'arv020_amazonprime_1080p_1x_vpn_mac_clean_25.csv',\n",
       " 'jeq004_netflix_1080p_1x_vpn_mac_clean_20210110-6.csv',\n",
       " 'mhrowlan-disney-25.csv',\n",
       " 'jeq004_netflix_1080p_1x_vpn_mac_clean_20210104-9.csv',\n",
       " 'mhrowlan-youtube-1x-vpn-mac-clean-20210108oo.csv',\n",
       " 'arv020_amazonprime_1080p_1x_vpn_mac_clean_22.csv',\n",
       " 'jeq004_netflix_1080p_1x_vpn_mac_clean_20210110-1.csv',\n",
       " 'mhrowlan-disney-22.csv',\n",
       " 'mhrowlan-youtube-1x-vpn-mac-clean-20210108z.csv',\n",
       " 'jeq004_youtube_1080p_1x_vpn_mac_clean_20210109-21.csv',\n",
       " 'jeq004_netflix_1080p_1x_vpn_mac_clean_20210108-0.csv',\n",
       " 'mhrowlan-disney-4.csv',\n",
       " 'arv020_hulu_1080p_1x_vpn_mac_clean_31.csv',\n",
       " 'mhrowlan-youtube-1x-vpn-mac-clean-20210108qq.csv',\n",
       " 'jeq004_netflix_1080p_1x_vpn_mac_clean_20210104-0.csv',\n",
       " 'jeq004_discovery_1080p_1x_vpn_mac_clean_20210125-15.csv',\n",
       " 'jeq004_netflix_1080p_1x_vpn_mac_clean_20210108-11.csv',\n",
       " 'mhrowlan-youtube-1x-vpn-mac-clean-20210108t.csv',\n",
       " 'arv020_amazonprime_1080p_1x_vpn_mac_clean_50.csv',\n",
       " 'jeq004_discovery_1080p_1x_vpn_mac_clean_20210125-12.csv',\n",
       " 'jeq004_netflix_1080p_1x_vpn_mac_clean_20210108-16.csv',\n",
       " 'mhrowlan-youtube-1x-vpn-mac-clean-20210108s.csv',\n",
       " 'arv020_amazonprime_1080p_1x_vpn_mac_clean_57.csv',\n",
       " 'mhrowlan-netflix-1x-vpn-mac-clean-20210104.csv',\n",
       " 'jeq004_netflix_1080p_1x_vpn_mac_clean_20210108-9.csv',\n",
       " 'jeq004_netflix_1080p_1x_vpn_mac_clean_20210110-20.csv',\n",
       " 'mhrowlan-disney-3.csv',\n",
       " 'jeq004_netflix_1080p_1x_vpn_mac_clean_20210110-8.csv',\n",
       " 'jeq004_netflix_1080p_1x_vpn_mac_clean_20210104-7.csv',\n",
       " 'jeq004_netflix_1080p_1x_vpn_mac_clean_20210106-1.csv',\n",
       " 'jeq004_netflix_1080p_1x_vpn_mac_clean_20210108-23.csv',\n",
       " 'jeq004_discovery_1080p_1x_vpn_mac_clean_20210125-27.csv',\n",
       " 'jeq004_netflix_1080p_1x_vpn_mac_clean_20210110-15.csv',\n",
       " 'mhrowlan-youtube-1x-vpn-mac-clean-20210108h.csv',\n",
       " 'chang_amazonprime_32.csv',\n",
       " 'arv020_amazonprime_1080p_1x_vpn_mac_clean_19.csv',\n",
       " 'mhrowlan-youtube-1x-vpn-mac-clean-20210108o.csv',\n",
       " 'jeq004_netflix_1080p_1x_vpn_mac_clean_20210110-12.csv',\n",
       " 'chang_amazonprime_35.csv',\n",
       " 'mhrowlan-disney-19.csv',\n",
       " 'jeq004_netflix_1080p_1x_vpn_mac_clean_20210106-6.csv',\n",
       " 'jeq004_netflix_1080p_1x_vpn_mac_clean_20210108-24.csv',\n",
       " 'jeq004_discovery_1080p_1x_vpn_mac_clean_20210125-20.csv',\n",
       " 'arv020_amazonprime_1080p_1x_vpn_mac_clean_17.csv',\n",
       " 'jeq004_netflix_1080p_1x_vpn_mac_clean_20210106-12.csv',\n",
       " 'jeq004_netflix_1080p_1x_vpn_mac_clean_20210104-31.csv',\n",
       " 'mhrowlan-youtube-1x-vpn-mac-clean-20210108a.csv',\n",
       " 'mhrowlan-disney-17.csv',\n",
       " 'jeq004_netflix_1080p_1x_vpn_mac_clean_20210106-8.csv',\n",
       " 'jeq004_youtube_1080p_1x_vpn_mac_clean_20210109-14.csv',\n",
       " 'jeq004_youtube_1080p_1x_vpn_mac_clean_20210109-13.csv',\n",
       " 'chang_amazonprime_40.csv',\n",
       " 'arv020_amazonprime_1080p_1x_vpn_mac_clean_10.csv',\n",
       " 'jeq004_netflix_1080p_1x_vpn_mac_clean_20210106-15.csv',\n",
       " 'mhrowlan-youtube-1x-vpn-mac-clean-20210108f.csv',\n",
       " 'mhrowlan-disney-10.csv',\n",
       " 'jeq004_netflix_1080p_1x_vpn_mac_clean_20210106b-13.csv',\n",
       " 'arv020_amazonprime_1080p_1x_vpn_mac_clean_49.csv',\n",
       " 'chang_youtube_8.csv',\n",
       " 'arv020_hulu_1080p_1x_vpn_mac_clean_5.csv',\n",
       " 'chang_youtube_11.csv',\n",
       " 'chang_amazonprime_19.csv',\n",
       " 'mhrowlan-disney-35.csv',\n",
       " 'arv020_hulu_1080p_1x_vpn_mac_clean_28.csv',\n",
       " 'arv020_amazonprime_1080p_1x_vpn_mac_clean_35.csv',\n",
       " 'jeq004_netflix_1080p_1x_vpn_mac_clean_20210104-13.csv',\n",
       " 'arv020_hulu_1080p_1x_vpn_mac_clean_2.csv',\n",
       " 'mhrowlan-disney-32.csv',\n",
       " 'chang_youtube_16.csv',\n",
       " 'jeq004_netflix_1080p_1x_vpn_mac_clean_20210107-9.csv',\n",
       " 'arv020_amazonprime_1080p_1x_vpn_mac_clean_32.csv',\n",
       " 'jeq004_netflix_1080p_1x_vpn_mac_clean_20210104-14.csv',\n",
       " 'jeq004_netflix_1080p_1x_vpn_mac_clean_20210106b-14.csv',\n",
       " 'arv020_amazonprime_1080p_1x_vpn_mac_clean_9.csv',\n",
       " 'chang_youtube_18.csv',\n",
       " 'chang_amazonprime_10.csv',\n",
       " 'jeq004_netflix_1080p_1x_vpn_mac_clean_20210107-7.csv',\n",
       " 'arv020_hulu_1080p_1x_vpn_mac_clean_21.csv',\n",
       " 'arv020_amazonprime_1080p_1x_vpn_mac_clean_7.csv',\n",
       " 'arv020_amazonprime_1080p_1x_vpn_mac_clean_40.csv',\n",
       " 'chang_youtube_1.csv',\n",
       " 'arv020_amazonprime_1080p_1x_vpn_mac_clean_47.csv',\n",
       " 'chang_youtube_6.csv',\n",
       " 'chang_amazonprime_17.csv',\n",
       " 'jeq004_netflix_1080p_1x_vpn_mac_clean_20210107-0.csv',\n",
       " 'arv020_hulu_1080p_1x_vpn_mac_clean_26.csv',\n",
       " 'jeq004_netflix_1080p_1x_vpn_mac_clean_20210106b-7.csv',\n",
       " 'jeq004_youtube_1080p_1x_vpn_mac_clean_20210109-4.csv',\n",
       " 'jeq004_netflix_1080p_1x_vpn_mac_clean_20210107-19.csv',\n",
       " 'jeq004_discovery_1080p_1x_vpn_mac_clean_20210125-7.csv',\n",
       " 'jeq004_netflix_1080p_1x_vpn_mac_clean_20210105-6.csv',\n",
       " 'mhrowlan-youtube-1x-vpn-mac-clean-20210108ss.csv',\n",
       " 'chang_amazonprime_22.csv',\n",
       " 'jeq004_netflix_1080p_1x_vpn_mac_clean_20210104-28.csv',\n",
       " 'arv020_hulu_1080p_1x_vpn_mac_clean_13.csv',\n",
       " 'chang_amazonprime_25.csv',\n",
       " 'mhrowlan-youtube-1x-vpn-mac-clean-20210108.csv',\n",
       " 'arv020_hulu_1080p_1x_vpn_mac_clean_14.csv',\n",
       " 'jeq004_netflix_1080p_1x_vpn_mac_clean_20210106b-0.csv',\n",
       " 'jeq004_youtube_1080p_1x_vpn_mac_clean_20210109-3.csv',\n",
       " 'mhrowlan-youtube-1x-vpn-mac-clean-20210108yy.csv',\n",
       " 'jeq004_netflix_1080p_1x_vpn_mac_clean_20210105-1.csv',\n",
       " 'jeq004_discovery_1080p_1x_vpn_mac_clean_20210125-0.csv',\n",
       " 'chang_amazonprime_5.csv',\n",
       " 'jeq004_netflix_1080p_1x_vpn_mac_clean_20210104-21.csv',\n",
       " 'jeq004_netflix_1080p_1x_vpn_mac_clean_20210106b-21.csv',\n",
       " 'jeq004_netflix_1080p_1x_vpn_mac_clean_20210107-10.csv',\n",
       " 'mhrowlan-youtube-1x-vpn-mac-clean-20210108gg.csv',\n",
       " 'jeq004_netflix_1080p_1x_vpn_mac_clean_20210106b-9.csv',\n",
       " 'jeq004_netflix_1080p_1x_vpn_mac_clean_20210107-17.csv',\n",
       " 'jeq004_netflix_1080p_1x_vpn_mac_clean_20210105-8.csv',\n",
       " 'jeq004_discovery_1080p_1x_vpn_mac_clean_20210125-9.csv',\n",
       " 'chang_amazonprime_2.csv',\n",
       " 'jeq004_netflix_1080p_1x_vpn_mac_clean_20210104-26.csv',\n",
       " 'mhrowlan-youtube-1x-vpn-mac-clean-20210108mm.csv',\n",
       " 'jeq004_youtube_1080p_1x_vpn_mac_clean_20210109-12.csv',\n",
       " 'jeq004_discovery_1080p_1x_vpn_mac_clean_20210125-28.csv',\n",
       " 'arv020_amazonprime_1080p_1x_vpn_mac_clean_11.csv',\n",
       " 'mhrowlan-youtube-1x-vpn-mac-clean-20210105f.csv',\n",
       " 'jeq004_netflix_1080p_1x_vpn_mac_clean_20210106-14.csv',\n",
       " 'mhrowlan-youtube-1x-vpn-mac-clean-20210108ll.csv',\n",
       " 'mhrowlan-youtube-1x-vpn-mac-clean-20210108g.csv',\n",
       " 'mhrowlan-disney-11.csv',\n",
       " 'mhrowlan-youtube-1x-vpn-mac-clean-20210105a.csv',\n",
       " 'arv020_amazonprime_1080p_1x_vpn_mac_clean_16.csv',\n",
       " 'jeq004_netflix_1080p_1x_vpn_mac_clean_20210106-13.csv',\n",
       " 'jeq004_netflix_1080p_1x_vpn_mac_clean_20210104-30.csv',\n",
       " 'mhrowlan-disney-16.csv',\n",
       " 'jeq004_netflix_1080p_1x_vpn_mac_clean_20210106-9.csv',\n",
       " 'mhrowlan-youtube-1x-vpn-mac-clean-20210108ff.csv',\n",
       " 'jeq004_youtube_1080p_1x_vpn_mac_clean_20210109-15.csv',\n",
       " 'arv020_amazonprime_1080p_1x_vpn_mac_clean_18.csv',\n",
       " 'mhrowlan-youtube-1x-vpn-mac-clean-20210108n.csv',\n",
       " 'jeq004_netflix_1080p_1x_vpn_mac_clean_20210110-13.csv',\n",
       " 'mhrowlan-disney-18.csv',\n",
       " 'chang_amazonprime_34.csv',\n",
       " 'jeq004_netflix_1080p_1x_vpn_mac_clean_20210106-7.csv',\n",
       " 'jeq004_discovery_1080p_1x_vpn_mac_clean_20210125-21.csv',\n",
       " 'jeq004_netflix_1080p_1x_vpn_mac_clean_20210108-25.csv',\n",
       " 'mhrowlan-youtube-1x-vpn-mac-clean-20210108xx.csv',\n",
       " 'jeq004_netflix_1080p_1x_vpn_mac_clean_20210106-0.csv',\n",
       " 'jeq004_discovery_1080p_1x_vpn_mac_clean_20210125-26.csv',\n",
       " 'jeq004_netflix_1080p_1x_vpn_mac_clean_20210108-22.csv',\n",
       " 'jeq004_netflix_1080p_1x_vpn_mac_clean_20210110-14.csv',\n",
       " 'mhrowlan-youtube-1x-vpn-mac-clean-20210108i.csv',\n",
       " 'chang_amazonprime_33.csv',\n",
       " 'mhrowlan-youtube-1x-vpn-mac-clean-20210108rr.csv',\n",
       " 'jeq004_netflix_1080p_1x_vpn_mac_clean_20210108-17.csv',\n",
       " 'jeq004_discovery_1080p_1x_vpn_mac_clean_20210125-13.csv',\n",
       " 'mhrowlan-youtube-1x-vpn-mac-clean-20210108r.csv',\n",
       " 'arv020_amazonprime_1080p_1x_vpn_mac_clean_56.csv',\n",
       " 'jeq004_netflix_1080p_1x_vpn_mac_clean_20210108-8.csv',\n",
       " 'jeq004_netflix_1080p_1x_vpn_mac_clean_20210110-21.csv',\n",
       " 'mhrowlan-disney-2.csv',\n",
       " 'jeq004_netflix_1080p_1x_vpn_mac_clean_20210110-9.csv',\n",
       " 'jeq004_netflix_1080p_1x_vpn_mac_clean_20210104-6.csv',\n",
       " 'mhrowlan-disney-5.csv',\n",
       " 'arv020_hulu_1080p_1x_vpn_mac_clean_30.csv',\n",
       " 'jeq004_netflix_1080p_1x_vpn_mac_clean_20210104-1.csv',\n",
       " 'jeq004_netflix_1080p_1x_vpn_mac_clean_20210108-10.csv',\n",
       " 'jeq004_discovery_1080p_1x_vpn_mac_clean_20210125-14.csv',\n",
       " 'mhrowlan-youtube-1x-vpn-mac-clean-20210108u.csv',\n",
       " 'arv020_amazonprime_1080p_1x_vpn_mac_clean_51.csv',\n",
       " 'jeq004_netflix_1080p_1x_vpn_mac_clean_20210110-0.csv',\n",
       " 'arv020_amazonprime_1080p_1x_vpn_mac_clean_23.csv',\n",
       " 'mhrowlan-disney-23.csv',\n",
       " 'jeq004_youtube_1080p_1x_vpn_mac_clean_20210109-20.csv',\n",
       " 'jeq004_netflix_1080p_1x_vpn_mac_clean_20210108-1.csv',\n",
       " 'jeq004_netflix_1080p_1x_vpn_mac_clean_20210108-19.csv',\n",
       " 'arv020_amazonprime_1080p_1x_vpn_mac_clean_58.csv',\n",
       " 'jeq004_netflix_1080p_1x_vpn_mac_clean_20210105-10.csv',\n",
       " 'jeq004_netflix_1080p_1x_vpn_mac_clean_20210108-6.csv',\n",
       " 'jeq004_netflix_1080p_1x_vpn_mac_clean_20210106-21.csv',\n",
       " 'jeq004_netflix_1080p_1x_vpn_mac_clean_20210110-7.csv',\n",
       " 'arv020_amazonprime_1080p_1x_vpn_mac_clean_24.csv',\n",
       " 'jeq004_netflix_1080p_1x_vpn_mac_clean_20210104-8.csv',\n",
       " 'mhrowlan-disney-24.csv',\n",
       " 'jeq004_netflix_1080p_1x_vpn_mac_clean_20210106-10.csv',\n",
       " 'arv020_amazonprime_1080p_1x_vpn_mac_clean_15.csv',\n",
       " 'mhrowlan-youtube-1x-vpn-mac-clean-20210105b.csv',\n",
       " 'mhrowlan-youtube-1x-vpn-mac-clean-20210108c.csv',\n",
       " 'jeq004_netflix_1080p_1x_vpn_mac_clean_20210104-33.csv',\n",
       " 'mhrowlan-disney-15.csv',\n",
       " 'chang_amazonprime_39.csv',\n",
       " 'jeq004_youtube_1080p_1x_vpn_mac_clean_20210109-16.csv',\n",
       " 'jeq004_netflix_1080p_1x_vpn_mac_clean_20210108-28.csv',\n",
       " 'jeq004_youtube_1080p_1x_vpn_mac_clean_20210109-11.csv',\n",
       " 'jeq004_netflix_1080p_1x_vpn_mac_clean_20210106-17.csv',\n",
       " 'mhrowlan-youtube-1x-vpn-mac-clean-20210105e.csv',\n",
       " 'arv020_amazonprime_1080p_1x_vpn_mac_clean_12.csv',\n",
       " 'jeq004_netflix_1080p_1x_vpn_mac_clean_20210110-19.csv',\n",
       " 'mhrowlan-youtube-1x-vpn-mac-clean-20210108d.csv',\n",
       " 'jeq004_netflix_1080p_1x_vpn_mac_clean_20210104-34.csv',\n",
       " 'mhrowlan-disney-12.csv',\n",
       " 'arv020_amazonprime_1080p_1x_vpn_mac_clean_60.csv',\n",
       " 'jeq004_netflix_1080p_1x_vpn_mac_clean_20210106-3.csv',\n",
       " 'jeq004_netflix_1080p_1x_vpn_mac_clean_20210108-21.csv',\n",
       " 'jeq004_discovery_1080p_1x_vpn_mac_clean_20210125-25.csv',\n",
       " 'jeq004_netflix_1080p_1x_vpn_mac_clean_20210106-19.csv',\n",
       " 'mhrowlan-youtube-1x-vpn-mac-clean-20210108j.csv',\n",
       " 'jeq004_netflix_1080p_1x_vpn_mac_clean_20210110-17.csv',\n",
       " 'chang_amazonprime_30.csv',\n",
       " 'jeq004_netflix_1080p_1x_vpn_mac_clean_20210110-10.csv',\n",
       " 'mhrowlan-youtube-1x-vpn-mac-clean-20210108m.csv',\n",
       " 'chang_amazonprime_37.csv',\n",
       " 'jeq004_youtube_1080p_1x_vpn_mac_clean_20210109-18.csv',\n",
       " 'jeq004_netflix_1080p_1x_vpn_mac_clean_20210106-4.csv',\n",
       " 'jeq004_netflix_1080p_1x_vpn_mac_clean_20210108-26.csv',\n",
       " 'jeq004_discovery_1080p_1x_vpn_mac_clean_20210125-22.csv',\n",
       " 'mhrowlan-disney-6.csv',\n",
       " 'jeq004_netflix_1080p_1x_vpn_mac_clean_20210110-25.csv',\n",
       " 'arv020_hulu_1080p_1x_vpn_mac_clean_33.csv',\n",
       " 'mhrowlan-youtube-1x-vpn-mac-clean-20210108bb.csv',\n",
       " 'jeq004_netflix_1080p_1x_vpn_mac_clean_20210104-2.csv',\n",
       " 'jeq004_discovery_1080p_1x_vpn_mac_clean_20210125-17.csv',\n",
       " 'jeq004_netflix_1080p_1x_vpn_mac_clean_20210108-13.csv',\n",
       " 'arv020_amazonprime_1080p_1x_vpn_mac_clean_52.csv',\n",
       " 'mhrowlan-youtube-1x-vpn-mac-clean-20210108v.csv',\n",
       " 'jeq004_discovery_1080p_1x_vpn_mac_clean_20210125-10.csv',\n",
       " 'jeq004_netflix_1080p_1x_vpn_mac_clean_20210108-14.csv',\n",
       " 'mhrowlan-youtube-1x-vpn-mac-clean-20210108hh.csv',\n",
       " 'arv020_amazonprime_1080p_1x_vpn_mac_clean_55.csv',\n",
       " 'mhrowlan-youtube-1x-vpn-mac-clean-20210108q.csv',\n",
       " 'mhrowlan-disney-1.csv',\n",
       " 'jeq004_netflix_1080p_1x_vpn_mac_clean_20210110-22.csv',\n",
       " 'arv020_amazonprime_1080p_1x_vpn_mac_clean_29.csv',\n",
       " 'arv020_hulu_1080p_1x_vpn_mac_clean_34.csv',\n",
       " 'jeq004_netflix_1080p_1x_vpn_mac_clean_20210104-5.csv',\n",
       " 'mhrowlan-disney-29.csv',\n",
       " 'jeq004_netflix_1080p_1x_vpn_mac_clean_20210105-13.csv',\n",
       " 'mhrowlan-youtube-1x-vpn-mac-clean-20210108vv.csv',\n",
       " 'jeq004_netflix_1080p_1x_vpn_mac_clean_20210108-5.csv',\n",
       " 'arv020_amazonprime_1080p_1x_vpn_mac_clean_27.csv',\n",
       " 'jeq004_netflix_1080p_1x_vpn_mac_clean_20210110-4.csv',\n",
       " 'mhrowlan-disney-27.csv',\n",
       " 'mhrowlan-disney-8.csv',\n",
       " 'arv020_amazonprime_1080p_1x_vpn_mac_clean_20.csv',\n",
       " 'jeq004_netflix_1080p_1x_vpn_mac_clean_20210110-3.csv',\n",
       " 'mhrowlan-disney-20.csv',\n",
       " 'jeq004_discovery_1080p_1x_vpn_mac_clean_20210125-19.csv',\n",
       " 'mhrowlan-youtube-1x-vpn-mac-clean-20210108x.csv',\n",
       " 'jeq004_youtube_1080p_1x_vpn_mac_clean_20210109-23.csv',\n",
       " 'jeq004_netflix_1080p_1x_vpn_mac_clean_20210105-14.csv',\n",
       " 'jeq004_netflix_1080p_1x_vpn_mac_clean_20210108-2.csv',\n",
       " 'chang_youtube_15.csv',\n",
       " 'mhrowlan-disney-31.csv',\n",
       " 'arv020_hulu_1080p_1x_vpn_mac_clean_1.csv',\n",
       " 'arv020_amazonprime_1080p_1x_vpn_mac_clean_31.csv',\n",
       " 'jeq004_netflix_1080p_1x_vpn_mac_clean_20210104-17.csv',\n",
       " 'jeq004_netflix_1080p_1x_vpn_mac_clean_20210106b-17.csv',\n",
       " 'mhrowlan-youtube-1x-vpn-mac-clean-20210108ww.csv',\n",
       " 'jeq004_netflix_1080p_1x_vpn_mac_clean_20210106b-10.csv',\n",
       " 'mhrowlan-netflix-1x-vpn-mac-clean-20210104a.csv',\n",
       " 'mhrowlan-disney-36.csv',\n",
       " 'chang_youtube_12.csv',\n",
       " 'arv020_hulu_1080p_1x_vpn_mac_clean_6.csv',\n",
       " 'arv020_amazonprime_1080p_1x_vpn_mac_clean_36.csv',\n",
       " 'jeq004_netflix_1080p_1x_vpn_mac_clean_20210104-10.csv',\n",
       " 'arv020_amazonprime_1080p_1x_vpn_mac_clean_3.csv',\n",
       " 'arv020_amazonprime_1080p_1x_vpn_mac_clean_44.csv',\n",
       " 'mhrowlan-youtube-1x-vpn-mac-clean-20210108ii.csv',\n",
       " 'chang_youtube_5.csv',\n",
       " 'chang_amazonprime_14.csv',\n",
       " 'arv020_hulu_1080p_1x_vpn_mac_clean_8.csv',\n",
       " 'jeq004_netflix_1080p_1x_vpn_mac_clean_20210107-3.csv',\n",
       " 'arv020_amazonprime_1080p_1x_vpn_mac_clean_38.csv',\n",
       " 'arv020_hulu_1080p_1x_vpn_mac_clean_25.csv',\n",
       " 'chang_amazonprime_13.csv',\n",
       " 'jeq004_netflix_1080p_1x_vpn_mac_clean_20210107-4.csv',\n",
       " 'mhrowlan-youtube-1x-vpn-mac-clean-20210108cc.csv',\n",
       " 'arv020_hulu_1080p_1x_vpn_mac_clean_22.csv',\n",
       " 'jeq004_netflix_1080p_1x_vpn_mac_clean_20210104-19.csv',\n",
       " 'jeq004_netflix_1080p_1x_vpn_mac_clean_20210106b-19.csv',\n",
       " 'arv020_amazonprime_1080p_1x_vpn_mac_clean_4.csv',\n",
       " 'arv020_amazonprime_1080p_1x_vpn_mac_clean_43.csv',\n",
       " 'chang_youtube_2.csv',\n",
       " 'chang_amazonprime_26.csv',\n",
       " 'chang_amazonprime_8.csv',\n",
       " 'arv020_hulu_1080p_1x_vpn_mac_clean_17.csv',\n",
       " 'jeq004_netflix_1080p_1x_vpn_mac_clean_20210106b-3.csv',\n",
       " 'jeq004_youtube_1080p_1x_vpn_mac_clean_20210109-0.csv',\n",
       " 'jeq004_discovery_1080p_1x_vpn_mac_clean_20210125-3.csv',\n",
       " 'jeq004_netflix_1080p_1x_vpn_mac_clean_20210105-2.csv',\n",
       " 'jeq004_netflix_1080p_1x_vpn_mac_clean_20210106b-4.csv',\n",
       " 'jeq004_youtube_1080p_1x_vpn_mac_clean_20210109-7.csv',\n",
       " 'jeq004_netflix_1080p_1x_vpn_mac_clean_20210105-5.csv',\n",
       " 'jeq004_discovery_1080p_1x_vpn_mac_clean_20210125-4.csv',\n",
       " 'jeq004_netflix_1080p_1x_vpn_mac_clean_20210108-30.csv',\n",
       " 'chang_amazonprime_21.csv',\n",
       " 'arv020_hulu_1080p_1x_vpn_mac_clean_10.csv',\n",
       " 'jeq004_youtube_1080p_1x_vpn_mac_clean_20210109-9.csv',\n",
       " 'jeq004_netflix_1080p_1x_vpn_mac_clean_20210107-14.csv',\n",
       " 'chang_amazonprime_1.csv',\n",
       " 'jeq004_netflix_1080p_1x_vpn_mac_clean_20210104-25.csv',\n",
       " 'mhrowlan-youtube-1x-vpn-mac-clean-20210105.csv',\n",
       " 'chang_amazonprime_6.csv',\n",
       " 'chang_youtube_20.csv',\n",
       " 'chang_amazonprime_28.csv',\n",
       " 'jeq004_netflix_1080p_1x_vpn_mac_clean_20210104-22.csv',\n",
       " 'arv020_hulu_1080p_1x_vpn_mac_clean_19.csv',\n",
       " 'jeq004_netflix_1080p_1x_vpn_mac_clean_20210106b-22.csv',\n",
       " 'jeq004_netflix_1080p_1x_vpn_mac_clean_20210107-13.csv',\n",
       " 'mhrowlan-disney-9.csv',\n",
       " 'jeq004_netflix_1080p_1x_vpn_mac_clean_20210110-2.csv',\n",
       " 'arv020_amazonprime_1080p_1x_vpn_mac_clean_21.csv',\n",
       " 'mhrowlan-disney-21.csv',\n",
       " 'jeq004_discovery_1080p_1x_vpn_mac_clean_20210125-18.csv',\n",
       " 'jeq004_youtube_1080p_1x_vpn_mac_clean_20210109-22.csv',\n",
       " 'mhrowlan-youtube-1x-vpn-mac-clean-20210108y.csv',\n",
       " 'jeq004_netflix_1080p_1x_vpn_mac_clean_20210108-3.csv',\n",
       " 'jeq004_netflix_1080p_1x_vpn_mac_clean_20210105-12.csv',\n",
       " 'jeq004_netflix_1080p_1x_vpn_mac_clean_20210108-4.csv',\n",
       " 'jeq004_netflix_1080p_1x_vpn_mac_clean_20210110-5.csv',\n",
       " 'arv020_amazonprime_1080p_1x_vpn_mac_clean_26.csv',\n",
       " 'mhrowlan-disney-26.csv',\n",
       " 'jeq004_netflix_1080p_1x_vpn_mac_clean_20210108-15.csv',\n",
       " 'jeq004_discovery_1080p_1x_vpn_mac_clean_20210125-11.csv',\n",
       " 'arv020_amazonprime_1080p_1x_vpn_mac_clean_54.csv',\n",
       " 'mhrowlan-youtube-1x-vpn-mac-clean-20210108p.csv',\n",
       " 'jeq004_netflix_1080p_1x_vpn_mac_clean_20210110-23.csv',\n",
       " 'arv020_amazonprime_1080p_1x_vpn_mac_clean_28.csv',\n",
       " 'arv020_hulu_1080p_1x_vpn_mac_clean_35.csv',\n",
       " 'mhrowlan-disney-28.csv',\n",
       " 'jeq004_netflix_1080p_1x_vpn_mac_clean_20210104-4.csv',\n",
       " 'mhrowlan-disney-7.csv',\n",
       " 'jeq004_netflix_1080p_1x_vpn_mac_clean_20210110-24.csv',\n",
       " 'arv020_hulu_1080p_1x_vpn_mac_clean_32.csv',\n",
       " 'jeq004_netflix_1080p_1x_vpn_mac_clean_20210104-3.csv',\n",
       " 'jeq004_netflix_1080p_1x_vpn_mac_clean_20210108-12.csv',\n",
       " 'jeq004_discovery_1080p_1x_vpn_mac_clean_20210125-16.csv',\n",
       " 'arv020_amazonprime_1080p_1x_vpn_mac_clean_53.csv',\n",
       " 'mhrowlan-youtube-1x-vpn-mac-clean-20210108w.csv',\n",
       " 'jeq004_netflix_1080p_1x_vpn_mac_clean_20210110-11.csv',\n",
       " 'mhrowlan-youtube-1x-vpn-mac-clean-20210108l.csv',\n",
       " 'chang_amazonprime_36.csv',\n",
       " 'jeq004_youtube_1080p_1x_vpn_mac_clean_20210109-19.csv',\n",
       " 'jeq004_netflix_1080p_1x_vpn_mac_clean_20210106-5.csv',\n",
       " 'mhrowlan-youtube-1x-vpn-mac-clean-20210108kk.csv',\n",
       " 'jeq004_discovery_1080p_1x_vpn_mac_clean_20210125-23.csv',\n",
       " 'jeq004_netflix_1080p_1x_vpn_mac_clean_20210108-27.csv',\n",
       " 'jeq004_netflix_1080p_1x_vpn_mac_clean_20210106-2.csv',\n",
       " 'jeq004_discovery_1080p_1x_vpn_mac_clean_20210125-24.csv',\n",
       " 'jeq004_netflix_1080p_1x_vpn_mac_clean_20210108-20.csv',\n",
       " 'jeq004_netflix_1080p_1x_vpn_mac_clean_20210106-18.csv',\n",
       " 'mhrowlan-youtube-1x-vpn-mac-clean-20210108aa.csv',\n",
       " 'mhrowlan-youtube-1x-vpn-mac-clean-20210108k.csv',\n",
       " 'jeq004_netflix_1080p_1x_vpn_mac_clean_20210110-16.csv',\n",
       " 'chang_amazonprime_31.csv',\n",
       " 'jeq004_youtube_1080p_1x_vpn_mac_clean_20210109-10.csv',\n",
       " 'jeq004_netflix_1080p_1x_vpn_mac_clean_20210106-16.csv',\n",
       " 'mhrowlan-youtube-1x-vpn-mac-clean-20210105d.csv',\n",
       " 'arv020_amazonprime_1080p_1x_vpn_mac_clean_13.csv',\n",
       " 'jeq004_netflix_1080p_1x_vpn_mac_clean_20210110-18.csv',\n",
       " 'mhrowlan-youtube-1x-vpn-mac-clean-20210108e.csv',\n",
       " 'mhrowlan-disney-13.csv',\n",
       " 'jeq004_netflix_1080p_1x_vpn_mac_clean_20210106-11.csv',\n",
       " 'arv020_amazonprime_1080p_1x_vpn_mac_clean_14.csv',\n",
       " 'mhrowlan-youtube-1x-vpn-mac-clean-20210105c.csv',\n",
       " 'mhrowlan-youtube-1x-vpn-mac-clean-20210108b.csv',\n",
       " 'jeq004_netflix_1080p_1x_vpn_mac_clean_20210104-32.csv',\n",
       " 'chang_amazonprime_38.csv',\n",
       " 'mhrowlan-disney-14.csv',\n",
       " 'jeq004_youtube_1080p_1x_vpn_mac_clean_20210109-17.csv',\n",
       " 'jeq004_netflix_1080p_1x_vpn_mac_clean_20210108-29.csv',\n",
       " 'mhrowlan-youtube-1x-vpn-mac-clean-20210108uu.csv',\n",
       " 'chang_amazonprime_7.csv',\n",
       " 'chang_amazonprime_29.csv',\n",
       " 'jeq004_netflix_1080p_1x_vpn_mac_clean_20210104-23.csv',\n",
       " 'arv020_hulu_1080p_1x_vpn_mac_clean_18.csv',\n",
       " 'jeq004_netflix_1080p_1x_vpn_mac_clean_20210106b-23.csv',\n",
       " 'mhrowlan-youtube-1x-vpn-mac-clean-20210108tt.csv',\n",
       " 'jeq004_netflix_1080p_1x_vpn_mac_clean_20210107-12.csv',\n",
       " 'jeq004_youtube_1080p_1x_vpn_mac_clean_20210109-8.csv',\n",
       " 'jeq004_netflix_1080p_1x_vpn_mac_clean_20210107-15.csv',\n",
       " 'jeq004_netflix_1080p_1x_vpn_mac_clean_20210104-24.csv',\n",
       " 'jeq004_netflix_1080p_1x_vpn_mac_clean_20210106b-5.csv',\n",
       " 'jeq004_youtube_1080p_1x_vpn_mac_clean_20210109-6.csv',\n",
       " 'jeq004_netflix_1080p_1x_vpn_mac_clean_20210105-4.csv',\n",
       " 'jeq004_netflix_1080p_1x_vpn_mac_clean_20210108-31.csv',\n",
       " 'jeq004_discovery_1080p_1x_vpn_mac_clean_20210125-5.csv',\n",
       " 'chang_amazonprime_20.csv',\n",
       " 'arv020_hulu_1080p_1x_vpn_mac_clean_11.csv',\n",
       " 'chang_amazonprime_27.csv',\n",
       " 'chang_amazonprime_9.csv',\n",
       " 'arv020_hulu_1080p_1x_vpn_mac_clean_16.csv',\n",
       " 'jeq004_netflix_1080p_1x_vpn_mac_clean_20210106b-2.csv',\n",
       " 'jeq004_youtube_1080p_1x_vpn_mac_clean_20210109-1.csv',\n",
       " 'jeq004_discovery_1080p_1x_vpn_mac_clean_20210125-2.csv',\n",
       " 'jeq004_netflix_1080p_1x_vpn_mac_clean_20210105-3.csv',\n",
       " 'mhrowlan-youtube-1x-vpn-mac-clean-20210108jj.csv',\n",
       " 'chang_amazonprime_12.csv',\n",
       " 'jeq004_netflix_1080p_1x_vpn_mac_clean_20210107-5.csv',\n",
       " 'arv020_hulu_1080p_1x_vpn_mac_clean_23.csv',\n",
       " 'jeq004_netflix_1080p_1x_vpn_mac_clean_20210104-18.csv',\n",
       " 'arv020_amazonprime_1080p_1x_vpn_mac_clean_5.csv',\n",
       " 'jeq004_netflix_1080p_1x_vpn_mac_clean_20210106b-18.csv',\n",
       " 'arv020_amazonprime_1080p_1x_vpn_mac_clean_42.csv',\n",
       " 'chang_youtube_3.csv',\n",
       " 'arv020_amazonprime_1080p_1x_vpn_mac_clean_2.csv',\n",
       " 'arv020_amazonprime_1080p_1x_vpn_mac_clean_45.csv',\n",
       " 'chang_youtube_4.csv',\n",
       " 'chang_amazonprime_15.csv',\n",
       " 'arv020_hulu_1080p_1x_vpn_mac_clean_9.csv',\n",
       " 'jeq004_netflix_1080p_1x_vpn_mac_clean_20210107-2.csv',\n",
       " 'arv020_amazonprime_1080p_1x_vpn_mac_clean_39.csv',\n",
       " 'arv020_hulu_1080p_1x_vpn_mac_clean_24.csv',\n",
       " 'jeq004_netflix_1080p_1x_vpn_mac_clean_20210107-20.csv',\n",
       " 'jeq004_netflix_1080p_1x_vpn_mac_clean_20210106b-11.csv',\n",
       " 'mhrowlan-disney-37.csv',\n",
       " 'chang_youtube_13.csv',\n",
       " 'arv020_hulu_1080p_1x_vpn_mac_clean_7.csv',\n",
       " 'arv020_amazonprime_1080p_1x_vpn_mac_clean_37.csv',\n",
       " 'jeq004_netflix_1080p_1x_vpn_mac_clean_20210104-11.csv',\n",
       " 'chang_youtube_14.csv',\n",
       " 'mhrowlan-disney-30.csv',\n",
       " 'arv020_amazonprime_1080p_1x_vpn_mac_clean_30.csv',\n",
       " 'jeq004_netflix_1080p_1x_vpn_mac_clean_20210104-16.csv',\n",
       " 'jeq004_netflix_1080p_1x_vpn_mac_clean_20210106b-16.csv']"
      ]
     },
     "execution_count": 75,
     "metadata": {},
     "output_type": "execute_result"
    }
   ],
   "source": [
    "filelist"
   ]
  },
  {
   "cell_type": "code",
   "execution_count": 5,
   "metadata": {},
   "outputs": [],
   "source": [
    "def table_output_col(df):\n",
    "    df['output'] = df['Input'].apply(label_identifyer)\n",
    "    return df"
   ]
  },
  {
   "cell_type": "code",
   "execution_count": 6,
   "metadata": {},
   "outputs": [],
   "source": [
    "df = pd.DataFrame({\"Input\": filelist})\n",
    "df = table_output_col(df)"
   ]
  },
  {
   "cell_type": "code",
   "execution_count": 7,
   "metadata": {},
   "outputs": [],
   "source": [
    "ap_df = df[df['output'] == 'Amazon Prime']\n",
    "nx_df = df[df['output'] == 'Netflix']\n",
    "yt_df = df[df['output'] == 'Youtube']"
   ]
  },
  {
   "cell_type": "code",
   "execution_count": 8,
   "metadata": {},
   "outputs": [],
   "source": [
    "mb=1000000"
   ]
  },
  {
   "cell_type": "code",
   "execution_count": 76,
   "metadata": {},
   "outputs": [],
   "source": [
    "netflix_files = [f for f in filelist if 'netflix' in f]\n",
    "prime_files = [f for f in filelist if 'prime' in f]\n",
    "youtube_files = [f for f in filelist if 'youtube' in f]\n",
    "disney_files=[f for f in filelist if 'disney' in f]\n",
    "discovery_files=[f for f in filelist if 'discovery' in f]\n",
    "hulu_files=[f for f in filelist if 'hulu' in f]"
   ]
  },
  {
   "cell_type": "code",
   "execution_count": 80,
   "metadata": {},
   "outputs": [
    {
     "data": {
      "text/plain": [
       "35"
      ]
     },
     "execution_count": 80,
     "metadata": {},
     "output_type": "execute_result"
    }
   ],
   "source": [
    "len(hulu_files)"
   ]
  },
  {
   "cell_type": "code",
   "execution_count": 10,
   "metadata": {},
   "outputs": [],
   "source": [
    "netflix_mean=[]\n",
    "for x in range(len(netflix_files)):\n",
    "\n",
    "    y=pd.read_csv(os.path.join(fp, netflix_files[x]))['2->1Bytes']/mb\n",
    "    netflix_mean.append(np.mean(y))"
   ]
  },
  {
   "cell_type": "code",
   "execution_count": 11,
   "metadata": {},
   "outputs": [],
   "source": [
    "youtube_mean=[]\n",
    "for x in range(len(youtube_files)):\n",
    "\n",
    "    y=pd.read_csv(os.path.join(fp, youtube_files[x]))['2->1Bytes']/mb\n",
    "    youtube_mean.append(np.mean(y))"
   ]
  },
  {
   "cell_type": "code",
   "execution_count": 12,
   "metadata": {},
   "outputs": [],
   "source": [
    "prime_mean=[]\n",
    "for x in range(len(prime_files)):\n",
    "\n",
    "    y=pd.read_csv(os.path.join(fp, prime_files[x]))['2->1Bytes']/mb\n",
    "    prime_mean.append(np.mean(y))"
   ]
  },
  {
   "cell_type": "code",
   "execution_count": 13,
   "metadata": {},
   "outputs": [
    {
     "data": {
      "text/plain": [
       "[Text(0, 0, 'Netflix'), Text(0, 0, 'Youtube'), Text(0, 0, 'Amazon')]"
      ]
     },
     "execution_count": 13,
     "metadata": {},
     "output_type": "execute_result"
    },
    {
     "data": {
      "image/png": "[encoded data removed]",
      "text/plain": [
       "<Figure size 432x288 with 1 Axes>"
      ]
     },
     "metadata": {
      "needs_background": "light"
     },
     "output_type": "display_data"
    }
   ],
   "source": [
    "my_dict = {'Netflix': netflix_mean, 'Youtube': youtube_mean, \"Amazon\":prime_mean}\n",
    "\n",
    "fig, ax = plt.subplots()\n",
    "ax.boxplot(my_dict.values())\n",
    "ax.set_xticklabels(my_dict.keys())"
   ]
  },
  {
   "cell_type": "code",
   "execution_count": 14,
   "metadata": {},
   "outputs": [
    {
     "data": {
      "text/plain": [
       "100"
      ]
     },
     "execution_count": 14,
     "metadata": {},
     "output_type": "execute_result"
    }
   ],
   "source": [
    "len(prime_mean)"
   ]
  },
  {
   "cell_type": "code",
   "execution_count": 15,
   "metadata": {},
   "outputs": [
    {
     "data": {
      "text/plain": [
       "Text(0.5, 1.0, 'Download Rates of Netflix')"
      ]
     },
     "execution_count": 15,
     "metadata": {},
     "output_type": "execute_result"
    },
    {
     "data": {
      "image/png": "[encoded data removed]",
      "text/plain": [
       "<Figure size 432x288 with 1 Axes>"
      ]
     },
     "metadata": {
      "needs_background": "light"
     },
     "output_type": "display_data"
    }
   ],
   "source": [
    "for x in range(len(netflix_files)):\n",
    "    plt.plot(pd.read_csv(os.path.join(fp, netflix_files[x]))['2->1Bytes']/mb)\n",
    "plt.axhline(y=(28618.789651557116/mb), color=\"black\")\n",
    "plt.xlabel(\"Index\")\n",
    "plt.ylabel(\"MB\")\n",
    "plt.title(\"Download Rates of Netflix\")"
   ]
  },
  {
   "cell_type": "code",
   "execution_count": 16,
   "metadata": {},
   "outputs": [
    {
     "data": {
      "text/plain": [
       "Text(0.5, 1.0, 'Upload Rates of Netflix')"
      ]
     },
     "execution_count": 16,
     "metadata": {},
     "output_type": "execute_result"
    },
    {
     "data": {
      "image/png": "[encoded data removed]",
      "text/plain": [
       "<Figure size 432x288 with 1 Axes>"
      ]
     },
     "metadata": {
      "needs_background": "light"
     },
     "output_type": "display_data"
    }
   ],
   "source": [
    "for x in range(len(netflix_files)):\n",
    "    plt.plot(pd.read_csv(os.path.join(fp, netflix_files[x]))['1->2Bytes']/mb)\n",
    "\n",
    "plt.xlabel(\"Index\")\n",
    "plt.ylabel(\"MB\")\n",
    "plt.title(\"Upload Rates of Netflix\")"
   ]
  },
  {
   "cell_type": "code",
   "execution_count": 17,
   "metadata": {},
   "outputs": [
    {
     "data": {
      "text/plain": [
       "Text(0.5, 1.0, 'Download Rates of Youtube')"
      ]
     },
     "execution_count": 17,
     "metadata": {},
     "output_type": "execute_result"
    },
    {
     "data": {
      "image/png": "[encoded data removed]",
      "text/plain": [
       "<Figure size 432x288 with 1 Axes>"
      ]
     },
     "metadata": {
      "needs_background": "light"
     },
     "output_type": "display_data"
    }
   ],
   "source": [
    "for x in range(len(youtube_files)):\n",
    "    plt.plot(pd.read_csv(os.path.join(fp, youtube_files[x]))['2->1Bytes']/mb)\n",
    "plt.xlabel(\"Index\")\n",
    "plt.ylabel(\"MB\")\n",
    "plt.title(\"Download Rates of Youtube\")"
   ]
  },
  {
   "cell_type": "code",
   "execution_count": 18,
   "metadata": {},
   "outputs": [
    {
     "data": {
      "text/plain": [
       "Text(0.5, 1.0, 'Upload Rates of Youtube')"
      ]
     },
     "execution_count": 18,
     "metadata": {},
     "output_type": "execute_result"
    },
    {
     "data": {
      "image/png": "[encoded data removed]",
      "text/plain": [
       "<Figure size 432x288 with 1 Axes>"
      ]
     },
     "metadata": {
      "needs_background": "light"
     },
     "output_type": "display_data"
    }
   ],
   "source": [
    "for x in range(len(youtube_files)):\n",
    "    plt.plot(pd.read_csv(os.path.join(fp, youtube_files[x]))['1->2Bytes']/mb)\n",
    "plt.xlabel(\"Index\")\n",
    "plt.ylabel(\"MB\")\n",
    "plt.title(\"Upload Rates of Youtube\")"
   ]
  },
  {
   "cell_type": "code",
   "execution_count": 19,
   "metadata": {},
   "outputs": [
    {
     "data": {
      "text/plain": [
       "Text(0.5, 1.0, 'Download Rates of Amazon Prime')"
      ]
     },
     "execution_count": 19,
     "metadata": {},
     "output_type": "execute_result"
    },
    {
     "data": {
      "image/png": "[encoded data removed]",
      "text/plain": [
       "<Figure size 432x288 with 1 Axes>"
      ]
     },
     "metadata": {
      "needs_background": "light"
     },
     "output_type": "display_data"
    }
   ],
   "source": [
    "for x in range(len(prime_files)):\n",
    "    plt.plot(pd.read_csv(os.path.join(fp, prime_files[x]))['2->1Bytes']/mb)\n",
    "plt.xlabel(\"Index\")\n",
    "plt.ylabel(\"MB\")\n",
    "plt.title(\"Download Rates of Amazon Prime\")"
   ]
  },
  {
   "cell_type": "code",
   "execution_count": 20,
   "metadata": {},
   "outputs": [
    {
     "data": {
      "text/plain": [
       "Text(0.5, 1.0, 'Upload Rates of Amazon Prime')"
      ]
     },
     "execution_count": 20,
     "metadata": {},
     "output_type": "execute_result"
    },
    {
     "data": {
      "image/png": "[encoded data removed]",
      "text/plain": [
       "<Figure size 432x288 with 1 Axes>"
      ]
     },
     "metadata": {
      "needs_background": "light"
     },
     "output_type": "display_data"
    }
   ],
   "source": [
    "for x in range(len(prime_files)):\n",
    "    plt.plot(pd.read_csv(os.path.join(fp, prime_files[x]))['1->2Bytes']/mb)\n",
    "plt.xlabel(\"Index\")\n",
    "plt.ylabel(\"MB\")\n",
    "plt.title(\"Upload Rates of Amazon Prime\")"
   ]
  },
  {
   "cell_type": "code",
   "execution_count": 21,
   "metadata": {},
   "outputs": [],
   "source": [
    "all_df=[]"
   ]
  },
  {
   "cell_type": "code",
   "execution_count": 22,
   "metadata": {},
   "outputs": [],
   "source": [
    "df_netflix=[]\n",
    "for x in range(len(netflix_files)):\n",
    "\n",
    "    y=pd.read_csv(os.path.join(fp, netflix_files[x]))\n",
    "    y[\"provider\"]=\"netflix\"\n",
    "    all_df.append(y)\n",
    "    df_netflix.append(y)"
   ]
  },
  {
   "cell_type": "code",
   "execution_count": 23,
   "metadata": {},
   "outputs": [],
   "source": [
    "df_youtube=[]\n",
    "for x in range(len(youtube_files)):\n",
    "\n",
    "    y=pd.read_csv(os.path.join(fp, youtube_files[x]))\n",
    "    y[\"provider\"]=\"youtube\"\n",
    "    all_df.append(y)\n",
    "    df_youtube.append(y)"
   ]
  },
  {
   "cell_type": "code",
   "execution_count": 24,
   "metadata": {},
   "outputs": [],
   "source": [
    "df_amazon=[]\n",
    "for x in range(len(prime_files)):\n",
    "\n",
    "    y=pd.read_csv(os.path.join(fp, prime_files[x]))\n",
    "    y[\"provider\"]=\"amazon\"\n",
    "    all_df.append(y)\n",
    "    df_amazon.append(y)"
   ]
  },
  {
   "cell_type": "code",
   "execution_count": 83,
   "metadata": {},
   "outputs": [],
   "source": [
    "other_files=disney_files+discovery_files+hulu_files"
   ]
  },
  {
   "cell_type": "code",
   "execution_count": 85,
   "metadata": {},
   "outputs": [],
   "source": [
    "df_other=[]\n",
    "for x in range(len(other_files)):\n",
    "\n",
    "    y=pd.read_csv(os.path.join(fp, other_files[x]))\n",
    "    y[\"provider\"]=\"other\"\n",
    "    all_df.append(y)\n",
    "    df_other.append(y)"
   ]
  },
  {
   "cell_type": "code",
   "execution_count": null,
   "metadata": {},
   "outputs": [],
   "source": []
  },
  {
   "cell_type": "code",
   "execution_count": 86,
   "metadata": {},
   "outputs": [
    {
     "ename": "KeyboardInterrupt",
     "evalue": "",
     "output_type": "error",
     "traceback": [
      "\u001b[0;31m\u001b[0m",
      "\u001b[0;31mKeyboardInterrupt\u001b[0mTraceback (most recent call last)",
      "\u001b[0;32m<ipython-input-86-4eaeb7620ba6>\u001b[0m in \u001b[0;36m<module>\u001b[0;34m\u001b[0m\n\u001b[1;32m      2\u001b[0m \u001b[0;34m\u001b[0m\u001b[0m\n\u001b[1;32m      3\u001b[0m \u001b[0;32mfor\u001b[0m \u001b[0mx\u001b[0m \u001b[0;32min\u001b[0m \u001b[0mrange\u001b[0m\u001b[0;34m(\u001b[0m\u001b[0;36m1\u001b[0m\u001b[0;34m,\u001b[0m\u001b[0mlen\u001b[0m\u001b[0;34m(\u001b[0m\u001b[0mall_df\u001b[0m\u001b[0;34m)\u001b[0m\u001b[0;34m)\u001b[0m\u001b[0;34m:\u001b[0m\u001b[0;34m\u001b[0m\u001b[0;34m\u001b[0m\u001b[0m\n\u001b[0;32m----> 4\u001b[0;31m     \u001b[0mdf\u001b[0m\u001b[0;34m=\u001b[0m\u001b[0mpd\u001b[0m\u001b[0;34m.\u001b[0m\u001b[0mconcat\u001b[0m\u001b[0;34m(\u001b[0m\u001b[0;34m[\u001b[0m\u001b[0mdf\u001b[0m\u001b[0;34m,\u001b[0m \u001b[0mall_df\u001b[0m\u001b[0;34m[\u001b[0m\u001b[0mx\u001b[0m\u001b[0;34m]\u001b[0m\u001b[0;34m]\u001b[0m\u001b[0;34m)\u001b[0m\u001b[0;34m\u001b[0m\u001b[0;34m\u001b[0m\u001b[0m\n\u001b[0m",
      "\u001b[0;32m/opt/conda/lib/python3.7/site-packages/pandas/core/reshape/concat.py\u001b[0m in \u001b[0;36mconcat\u001b[0;34m(objs, axis, join, ignore_index, keys, levels, names, verify_integrity, sort, copy)\u001b[0m\n\u001b[1;32m    282\u001b[0m         \u001b[0mverify_integrity\u001b[0m\u001b[0;34m=\u001b[0m\u001b[0mverify_integrity\u001b[0m\u001b[0;34m,\u001b[0m\u001b[0;34m\u001b[0m\u001b[0;34m\u001b[0m\u001b[0m\n\u001b[1;32m    283\u001b[0m         \u001b[0mcopy\u001b[0m\u001b[0;34m=\u001b[0m\u001b[0mcopy\u001b[0m\u001b[0;34m,\u001b[0m\u001b[0;34m\u001b[0m\u001b[0;34m\u001b[0m\u001b[0m\n\u001b[0;32m--> 284\u001b[0;31m         \u001b[0msort\u001b[0m\u001b[0;34m=\u001b[0m\u001b[0msort\u001b[0m\u001b[0;34m,\u001b[0m\u001b[0;34m\u001b[0m\u001b[0;34m\u001b[0m\u001b[0m\n\u001b[0m\u001b[1;32m    285\u001b[0m     )\n\u001b[1;32m    286\u001b[0m \u001b[0;34m\u001b[0m\u001b[0m\n",
      "\u001b[0;32m/opt/conda/lib/python3.7/site-packages/pandas/core/reshape/concat.py\u001b[0m in \u001b[0;36m__init__\u001b[0;34m(self, objs, axis, join, keys, levels, names, ignore_index, verify_integrity, copy, sort)\u001b[0m\n\u001b[1;32m    360\u001b[0m \u001b[0;34m\u001b[0m\u001b[0m\n\u001b[1;32m    361\u001b[0m             \u001b[0;31m# consolidate\u001b[0m\u001b[0;34m\u001b[0m\u001b[0;34m\u001b[0m\u001b[0;34m\u001b[0m\u001b[0m\n\u001b[0;32m--> 362\u001b[0;31m             \u001b[0mobj\u001b[0m\u001b[0;34m.\u001b[0m\u001b[0m_consolidate\u001b[0m\u001b[0;34m(\u001b[0m\u001b[0minplace\u001b[0m\u001b[0;34m=\u001b[0m\u001b[0;32mTrue\u001b[0m\u001b[0;34m)\u001b[0m\u001b[0;34m\u001b[0m\u001b[0;34m\u001b[0m\u001b[0m\n\u001b[0m\u001b[1;32m    363\u001b[0m             \u001b[0mndims\u001b[0m\u001b[0;34m.\u001b[0m\u001b[0madd\u001b[0m\u001b[0;34m(\u001b[0m\u001b[0mobj\u001b[0m\u001b[0;34m.\u001b[0m\u001b[0mndim\u001b[0m\u001b[0;34m)\u001b[0m\u001b[0;34m\u001b[0m\u001b[0;34m\u001b[0m\u001b[0m\n\u001b[1;32m    364\u001b[0m \u001b[0;34m\u001b[0m\u001b[0m\n",
      "\u001b[0;32m/opt/conda/lib/python3.7/site-packages/pandas/core/generic.py\u001b[0m in \u001b[0;36m_consolidate\u001b[0;34m(self, inplace)\u001b[0m\n\u001b[1;32m   5230\u001b[0m         \u001b[0minplace\u001b[0m \u001b[0;34m=\u001b[0m \u001b[0mvalidate_bool_kwarg\u001b[0m\u001b[0;34m(\u001b[0m\u001b[0minplace\u001b[0m\u001b[0;34m,\u001b[0m \u001b[0;34m\"inplace\"\u001b[0m\u001b[0;34m)\u001b[0m\u001b[0;34m\u001b[0m\u001b[0;34m\u001b[0m\u001b[0m\n\u001b[1;32m   5231\u001b[0m         \u001b[0;32mif\u001b[0m \u001b[0minplace\u001b[0m\u001b[0;34m:\u001b[0m\u001b[0;34m\u001b[0m\u001b[0;34m\u001b[0m\u001b[0m\n\u001b[0;32m-> 5232\u001b[0;31m             \u001b[0mself\u001b[0m\u001b[0;34m.\u001b[0m\u001b[0m_consolidate_inplace\u001b[0m\u001b[0;34m(\u001b[0m\u001b[0;34m)\u001b[0m\u001b[0;34m\u001b[0m\u001b[0;34m\u001b[0m\u001b[0m\n\u001b[0m\u001b[1;32m   5233\u001b[0m         \u001b[0;32melse\u001b[0m\u001b[0;34m:\u001b[0m\u001b[0;34m\u001b[0m\u001b[0;34m\u001b[0m\u001b[0m\n\u001b[1;32m   5234\u001b[0m             \u001b[0mf\u001b[0m \u001b[0;34m=\u001b[0m \u001b[0;32mlambda\u001b[0m\u001b[0;34m:\u001b[0m \u001b[0mself\u001b[0m\u001b[0;34m.\u001b[0m\u001b[0m_mgr\u001b[0m\u001b[0;34m.\u001b[0m\u001b[0mconsolidate\u001b[0m\u001b[0;34m(\u001b[0m\u001b[0;34m)\u001b[0m\u001b[0;34m\u001b[0m\u001b[0;34m\u001b[0m\u001b[0m\n",
      "\u001b[0;32m/opt/conda/lib/python3.7/site-packages/pandas/core/generic.py\u001b[0m in \u001b[0;36m_consolidate_inplace\u001b[0;34m(self)\u001b[0m\n\u001b[1;32m   5212\u001b[0m             \u001b[0mself\u001b[0m\u001b[0;34m.\u001b[0m\u001b[0m_mgr\u001b[0m \u001b[0;34m=\u001b[0m \u001b[0mself\u001b[0m\u001b[0;34m.\u001b[0m\u001b[0m_mgr\u001b[0m\u001b[0;34m.\u001b[0m\u001b[0mconsolidate\u001b[0m\u001b[0;34m(\u001b[0m\u001b[0;34m)\u001b[0m\u001b[0;34m\u001b[0m\u001b[0;34m\u001b[0m\u001b[0m\n\u001b[1;32m   5213\u001b[0m \u001b[0;34m\u001b[0m\u001b[0m\n\u001b[0;32m-> 5214\u001b[0;31m         \u001b[0mself\u001b[0m\u001b[0;34m.\u001b[0m\u001b[0m_protect_consolidate\u001b[0m\u001b[0;34m(\u001b[0m\u001b[0mf\u001b[0m\u001b[0;34m)\u001b[0m\u001b[0;34m\u001b[0m\u001b[0;34m\u001b[0m\u001b[0m\n\u001b[0m\u001b[1;32m   5215\u001b[0m \u001b[0;34m\u001b[0m\u001b[0m\n\u001b[1;32m   5216\u001b[0m     \u001b[0;32mdef\u001b[0m \u001b[0m_consolidate\u001b[0m\u001b[0;34m(\u001b[0m\u001b[0mself\u001b[0m\u001b[0;34m,\u001b[0m \u001b[0minplace\u001b[0m\u001b[0;34m:\u001b[0m \u001b[0mbool_t\u001b[0m \u001b[0;34m=\u001b[0m \u001b[0;32mFalse\u001b[0m\u001b[0;34m)\u001b[0m\u001b[0;34m:\u001b[0m\u001b[0;34m\u001b[0m\u001b[0;34m\u001b[0m\u001b[0m\n",
      "\u001b[0;32m/opt/conda/lib/python3.7/site-packages/pandas/core/generic.py\u001b[0m in \u001b[0;36m_protect_consolidate\u001b[0;34m(self, f)\u001b[0m\n\u001b[1;32m   5201\u001b[0m         \"\"\"\n\u001b[1;32m   5202\u001b[0m         \u001b[0mblocks_before\u001b[0m \u001b[0;34m=\u001b[0m \u001b[0mlen\u001b[0m\u001b[0;34m(\u001b[0m\u001b[0mself\u001b[0m\u001b[0;34m.\u001b[0m\u001b[0m_mgr\u001b[0m\u001b[0;34m.\u001b[0m\u001b[0mblocks\u001b[0m\u001b[0;34m)\u001b[0m\u001b[0;34m\u001b[0m\u001b[0;34m\u001b[0m\u001b[0m\n\u001b[0;32m-> 5203\u001b[0;31m         \u001b[0mresult\u001b[0m \u001b[0;34m=\u001b[0m \u001b[0mf\u001b[0m\u001b[0;34m(\u001b[0m\u001b[0;34m)\u001b[0m\u001b[0;34m\u001b[0m\u001b[0;34m\u001b[0m\u001b[0m\n\u001b[0m\u001b[1;32m   5204\u001b[0m         \u001b[0;32mif\u001b[0m \u001b[0mlen\u001b[0m\u001b[0;34m(\u001b[0m\u001b[0mself\u001b[0m\u001b[0;34m.\u001b[0m\u001b[0m_mgr\u001b[0m\u001b[0;34m.\u001b[0m\u001b[0mblocks\u001b[0m\u001b[0;34m)\u001b[0m \u001b[0;34m!=\u001b[0m \u001b[0mblocks_before\u001b[0m\u001b[0;34m:\u001b[0m\u001b[0;34m\u001b[0m\u001b[0;34m\u001b[0m\u001b[0m\n\u001b[1;32m   5205\u001b[0m             \u001b[0mself\u001b[0m\u001b[0;34m.\u001b[0m\u001b[0m_clear_item_cache\u001b[0m\u001b[0;34m(\u001b[0m\u001b[0;34m)\u001b[0m\u001b[0;34m\u001b[0m\u001b[0;34m\u001b[0m\u001b[0m\n",
      "\u001b[0;32m/opt/conda/lib/python3.7/site-packages/pandas/core/generic.py\u001b[0m in \u001b[0;36mf\u001b[0;34m()\u001b[0m\n\u001b[1;32m   5210\u001b[0m \u001b[0;34m\u001b[0m\u001b[0m\n\u001b[1;32m   5211\u001b[0m         \u001b[0;32mdef\u001b[0m \u001b[0mf\u001b[0m\u001b[0;34m(\u001b[0m\u001b[0;34m)\u001b[0m\u001b[0;34m:\u001b[0m\u001b[0;34m\u001b[0m\u001b[0;34m\u001b[0m\u001b[0m\n\u001b[0;32m-> 5212\u001b[0;31m             \u001b[0mself\u001b[0m\u001b[0;34m.\u001b[0m\u001b[0m_mgr\u001b[0m \u001b[0;34m=\u001b[0m \u001b[0mself\u001b[0m\u001b[0;34m.\u001b[0m\u001b[0m_mgr\u001b[0m\u001b[0;34m.\u001b[0m\u001b[0mconsolidate\u001b[0m\u001b[0;34m(\u001b[0m\u001b[0;34m)\u001b[0m\u001b[0;34m\u001b[0m\u001b[0;34m\u001b[0m\u001b[0m\n\u001b[0m\u001b[1;32m   5213\u001b[0m \u001b[0;34m\u001b[0m\u001b[0m\n\u001b[1;32m   5214\u001b[0m         \u001b[0mself\u001b[0m\u001b[0;34m.\u001b[0m\u001b[0m_protect_consolidate\u001b[0m\u001b[0;34m(\u001b[0m\u001b[0mf\u001b[0m\u001b[0;34m)\u001b[0m\u001b[0;34m\u001b[0m\u001b[0;34m\u001b[0m\u001b[0m\n",
      "\u001b[0;32m/opt/conda/lib/python3.7/site-packages/pandas/core/internals/managers.py\u001b[0m in \u001b[0;36mconsolidate\u001b[0;34m(self)\u001b[0m\n\u001b[1;32m    972\u001b[0m         \u001b[0mbm\u001b[0m \u001b[0;34m=\u001b[0m \u001b[0mtype\u001b[0m\u001b[0;34m(\u001b[0m\u001b[0mself\u001b[0m\u001b[0;34m)\u001b[0m\u001b[0;34m(\u001b[0m\u001b[0mself\u001b[0m\u001b[0;34m.\u001b[0m\u001b[0mblocks\u001b[0m\u001b[0;34m,\u001b[0m \u001b[0mself\u001b[0m\u001b[0;34m.\u001b[0m\u001b[0maxes\u001b[0m\u001b[0;34m)\u001b[0m\u001b[0;34m\u001b[0m\u001b[0;34m\u001b[0m\u001b[0m\n\u001b[1;32m    973\u001b[0m         \u001b[0mbm\u001b[0m\u001b[0;34m.\u001b[0m\u001b[0m_is_consolidated\u001b[0m \u001b[0;34m=\u001b[0m \u001b[0;32mFalse\u001b[0m\u001b[0;34m\u001b[0m\u001b[0;34m\u001b[0m\u001b[0m\n\u001b[0;32m--> 974\u001b[0;31m         \u001b[0mbm\u001b[0m\u001b[0;34m.\u001b[0m\u001b[0m_consolidate_inplace\u001b[0m\u001b[0;34m(\u001b[0m\u001b[0;34m)\u001b[0m\u001b[0;34m\u001b[0m\u001b[0;34m\u001b[0m\u001b[0m\n\u001b[0m\u001b[1;32m    975\u001b[0m         \u001b[0;32mreturn\u001b[0m \u001b[0mbm\u001b[0m\u001b[0;34m\u001b[0m\u001b[0;34m\u001b[0m\u001b[0m\n\u001b[1;32m    976\u001b[0m \u001b[0;34m\u001b[0m\u001b[0m\n",
      "\u001b[0;32m/opt/conda/lib/python3.7/site-packages/pandas/core/internals/managers.py\u001b[0m in \u001b[0;36m_consolidate_inplace\u001b[0;34m(self)\u001b[0m\n\u001b[1;32m    977\u001b[0m     \u001b[0;32mdef\u001b[0m \u001b[0m_consolidate_inplace\u001b[0m\u001b[0;34m(\u001b[0m\u001b[0mself\u001b[0m\u001b[0;34m)\u001b[0m \u001b[0;34m->\u001b[0m \u001b[0;32mNone\u001b[0m\u001b[0;34m:\u001b[0m\u001b[0;34m\u001b[0m\u001b[0;34m\u001b[0m\u001b[0m\n\u001b[1;32m    978\u001b[0m         \u001b[0;32mif\u001b[0m \u001b[0;32mnot\u001b[0m \u001b[0mself\u001b[0m\u001b[0;34m.\u001b[0m\u001b[0mis_consolidated\u001b[0m\u001b[0;34m(\u001b[0m\u001b[0;34m)\u001b[0m\u001b[0;34m:\u001b[0m\u001b[0;34m\u001b[0m\u001b[0;34m\u001b[0m\u001b[0m\n\u001b[0;32m--> 979\u001b[0;31m             \u001b[0mself\u001b[0m\u001b[0;34m.\u001b[0m\u001b[0mblocks\u001b[0m \u001b[0;34m=\u001b[0m \u001b[0mtuple\u001b[0m\u001b[0;34m(\u001b[0m\u001b[0m_consolidate\u001b[0m\u001b[0;34m(\u001b[0m\u001b[0mself\u001b[0m\u001b[0;34m.\u001b[0m\u001b[0mblocks\u001b[0m\u001b[0;34m)\u001b[0m\u001b[0;34m)\u001b[0m\u001b[0;34m\u001b[0m\u001b[0;34m\u001b[0m\u001b[0m\n\u001b[0m\u001b[1;32m    980\u001b[0m             \u001b[0mself\u001b[0m\u001b[0;34m.\u001b[0m\u001b[0m_is_consolidated\u001b[0m \u001b[0;34m=\u001b[0m \u001b[0;32mTrue\u001b[0m\u001b[0;34m\u001b[0m\u001b[0;34m\u001b[0m\u001b[0m\n\u001b[1;32m    981\u001b[0m             \u001b[0mself\u001b[0m\u001b[0;34m.\u001b[0m\u001b[0m_known_consolidated\u001b[0m \u001b[0;34m=\u001b[0m \u001b[0;32mTrue\u001b[0m\u001b[0;34m\u001b[0m\u001b[0;34m\u001b[0m\u001b[0m\n",
      "\u001b[0;32m/opt/conda/lib/python3.7/site-packages/pandas/core/internals/managers.py\u001b[0m in \u001b[0;36m_consolidate\u001b[0;34m(blocks)\u001b[0m\n\u001b[1;32m   1898\u001b[0m     \u001b[0;32mfor\u001b[0m \u001b[0;34m(\u001b[0m\u001b[0m_can_consolidate\u001b[0m\u001b[0;34m,\u001b[0m \u001b[0mdtype\u001b[0m\u001b[0;34m)\u001b[0m\u001b[0;34m,\u001b[0m \u001b[0mgroup_blocks\u001b[0m \u001b[0;32min\u001b[0m \u001b[0mgrouper\u001b[0m\u001b[0;34m:\u001b[0m\u001b[0;34m\u001b[0m\u001b[0;34m\u001b[0m\u001b[0m\n\u001b[1;32m   1899\u001b[0m         merged_blocks = _merge_blocks(\n\u001b[0;32m-> 1900\u001b[0;31m             \u001b[0mlist\u001b[0m\u001b[0;34m(\u001b[0m\u001b[0mgroup_blocks\u001b[0m\u001b[0;34m)\u001b[0m\u001b[0;34m,\u001b[0m \u001b[0mdtype\u001b[0m\u001b[0;34m=\u001b[0m\u001b[0mdtype\u001b[0m\u001b[0;34m,\u001b[0m \u001b[0mcan_consolidate\u001b[0m\u001b[0;34m=\u001b[0m\u001b[0m_can_consolidate\u001b[0m\u001b[0;34m\u001b[0m\u001b[0;34m\u001b[0m\u001b[0m\n\u001b[0m\u001b[1;32m   1901\u001b[0m         )\n\u001b[1;32m   1902\u001b[0m         \u001b[0mnew_blocks\u001b[0m \u001b[0;34m=\u001b[0m \u001b[0m_extend_blocks\u001b[0m\u001b[0;34m(\u001b[0m\u001b[0mmerged_blocks\u001b[0m\u001b[0;34m,\u001b[0m \u001b[0mnew_blocks\u001b[0m\u001b[0;34m)\u001b[0m\u001b[0;34m\u001b[0m\u001b[0;34m\u001b[0m\u001b[0m\n",
      "\u001b[0;32m/opt/conda/lib/python3.7/site-packages/pandas/core/internals/managers.py\u001b[0m in \u001b[0;36m_merge_blocks\u001b[0;34m(blocks, dtype, can_consolidate)\u001b[0m\n\u001b[1;32m   1920\u001b[0m         \u001b[0;31m# combination of those slices is a slice, too.\u001b[0m\u001b[0;34m\u001b[0m\u001b[0;34m\u001b[0m\u001b[0;34m\u001b[0m\u001b[0m\n\u001b[1;32m   1921\u001b[0m         \u001b[0mnew_mgr_locs\u001b[0m \u001b[0;34m=\u001b[0m \u001b[0mnp\u001b[0m\u001b[0;34m.\u001b[0m\u001b[0mconcatenate\u001b[0m\u001b[0;34m(\u001b[0m\u001b[0;34m[\u001b[0m\u001b[0mb\u001b[0m\u001b[0;34m.\u001b[0m\u001b[0mmgr_locs\u001b[0m\u001b[0;34m.\u001b[0m\u001b[0mas_array\u001b[0m \u001b[0;32mfor\u001b[0m \u001b[0mb\u001b[0m \u001b[0;32min\u001b[0m \u001b[0mblocks\u001b[0m\u001b[0;34m]\u001b[0m\u001b[0;34m)\u001b[0m\u001b[0;34m\u001b[0m\u001b[0;34m\u001b[0m\u001b[0m\n\u001b[0;32m-> 1922\u001b[0;31m         \u001b[0mnew_values\u001b[0m \u001b[0;34m=\u001b[0m \u001b[0mnp\u001b[0m\u001b[0;34m.\u001b[0m\u001b[0mvstack\u001b[0m\u001b[0;34m(\u001b[0m\u001b[0;34m[\u001b[0m\u001b[0mb\u001b[0m\u001b[0;34m.\u001b[0m\u001b[0mvalues\u001b[0m \u001b[0;32mfor\u001b[0m \u001b[0mb\u001b[0m \u001b[0;32min\u001b[0m \u001b[0mblocks\u001b[0m\u001b[0;34m]\u001b[0m\u001b[0;34m)\u001b[0m\u001b[0;34m\u001b[0m\u001b[0;34m\u001b[0m\u001b[0m\n\u001b[0m\u001b[1;32m   1923\u001b[0m \u001b[0;34m\u001b[0m\u001b[0m\n\u001b[1;32m   1924\u001b[0m         \u001b[0margsort\u001b[0m \u001b[0;34m=\u001b[0m \u001b[0mnp\u001b[0m\u001b[0;34m.\u001b[0m\u001b[0margsort\u001b[0m\u001b[0;34m(\u001b[0m\u001b[0mnew_mgr_locs\u001b[0m\u001b[0;34m)\u001b[0m\u001b[0;34m\u001b[0m\u001b[0;34m\u001b[0m\u001b[0m\n",
      "\u001b[0;32m<__array_function__ internals>\u001b[0m in \u001b[0;36mvstack\u001b[0;34m(*args, **kwargs)\u001b[0m\n",
      "\u001b[0;32m/opt/conda/lib/python3.7/site-packages/numpy/core/shape_base.py\u001b[0m in \u001b[0;36mvstack\u001b[0;34m(tup)\u001b[0m\n\u001b[1;32m    281\u001b[0m     \u001b[0;32mif\u001b[0m \u001b[0;32mnot\u001b[0m \u001b[0misinstance\u001b[0m\u001b[0;34m(\u001b[0m\u001b[0marrs\u001b[0m\u001b[0;34m,\u001b[0m \u001b[0mlist\u001b[0m\u001b[0;34m)\u001b[0m\u001b[0;34m:\u001b[0m\u001b[0;34m\u001b[0m\u001b[0;34m\u001b[0m\u001b[0m\n\u001b[1;32m    282\u001b[0m         \u001b[0marrs\u001b[0m \u001b[0;34m=\u001b[0m \u001b[0;34m[\u001b[0m\u001b[0marrs\u001b[0m\u001b[0;34m]\u001b[0m\u001b[0;34m\u001b[0m\u001b[0;34m\u001b[0m\u001b[0m\n\u001b[0;32m--> 283\u001b[0;31m     \u001b[0;32mreturn\u001b[0m \u001b[0m_nx\u001b[0m\u001b[0;34m.\u001b[0m\u001b[0mconcatenate\u001b[0m\u001b[0;34m(\u001b[0m\u001b[0marrs\u001b[0m\u001b[0;34m,\u001b[0m \u001b[0;36m0\u001b[0m\u001b[0;34m)\u001b[0m\u001b[0;34m\u001b[0m\u001b[0;34m\u001b[0m\u001b[0m\n\u001b[0m\u001b[1;32m    284\u001b[0m \u001b[0;34m\u001b[0m\u001b[0m\n\u001b[1;32m    285\u001b[0m \u001b[0;34m\u001b[0m\u001b[0m\n",
      "\u001b[0;32m<__array_function__ internals>\u001b[0m in \u001b[0;36mconcatenate\u001b[0;34m(*args, **kwargs)\u001b[0m\n",
      "\u001b[0;31mKeyboardInterrupt\u001b[0m: "
     ]
    }
   ],
   "source": [
    "df=all_df[0]\n",
    "\n",
    "for x in range(1,len(all_df)):\n",
    "    df=pd.concat([df, all_df[x]])"
   ]
  },
  {
   "cell_type": "code",
   "execution_count": 26,
   "metadata": {},
   "outputs": [],
   "source": [
    "import sklearn\n",
    "from sklearn.ensemble import RandomForestRegressor\n",
    "from sklearn.model_selection import train_test_split"
   ]
  },
  {
   "cell_type": "code",
   "execution_count": 27,
   "metadata": {},
   "outputs": [
    {
     "data": {
      "text/html": [
       "<div>\n",
       "<style scoped>\n",
       "    .dataframe tbody tr th:only-of-type {\n",
       "        vertical-align: middle;\n",
       "    }\n",
       "\n",
       "    .dataframe tbody tr th {\n",
       "        vertical-align: top;\n",
       "    }\n",
       "\n",
       "    .dataframe thead th {\n",
       "        text-align: right;\n",
       "    }\n",
       "</style>\n",
       "<table border=\"1\" class=\"dataframe\">\n",
       "  <thead>\n",
       "    <tr style=\"text-align: right;\">\n",
       "      <th></th>\n",
       "      <th>Time</th>\n",
       "      <th>IP1</th>\n",
       "      <th>Port1</th>\n",
       "      <th>IP2</th>\n",
       "      <th>Port2</th>\n",
       "      <th>Proto</th>\n",
       "      <th>1-&gt;2Bytes</th>\n",
       "      <th>2-&gt;1Bytes</th>\n",
       "      <th>1-&gt;2Pkts</th>\n",
       "      <th>2-&gt;1Pkts</th>\n",
       "      <th>packet_times</th>\n",
       "      <th>packet_sizes</th>\n",
       "      <th>packet_dirs</th>\n",
       "      <th>provider</th>\n",
       "    </tr>\n",
       "  </thead>\n",
       "  <tbody>\n",
       "    <tr>\n",
       "      <th>0</th>\n",
       "      <td>1609997815</td>\n",
       "      <td>192.168.1.230</td>\n",
       "      <td>54915</td>\n",
       "      <td>192.168.1.255</td>\n",
       "      <td>54915</td>\n",
       "      <td>17</td>\n",
       "      <td>291</td>\n",
       "      <td>0</td>\n",
       "      <td>1</td>\n",
       "      <td>0</td>\n",
       "      <td>1609997815467;</td>\n",
       "      <td>291;</td>\n",
       "      <td>1;</td>\n",
       "      <td>netflix</td>\n",
       "    </tr>\n",
       "    <tr>\n",
       "      <th>1</th>\n",
       "      <td>1609997815</td>\n",
       "      <td>192.168.1.191</td>\n",
       "      <td>60553</td>\n",
       "      <td>137.110.0.69</td>\n",
       "      <td>443</td>\n",
       "      <td>17</td>\n",
       "      <td>1463</td>\n",
       "      <td>1218</td>\n",
       "      <td>8</td>\n",
       "      <td>7</td>\n",
       "      <td>1609997815532;1609997815533;1609997815566;1609...</td>\n",
       "      <td>288;278;118;118;184;253;118;118;270;157;118;11...</td>\n",
       "      <td>1;1;2;2;2;2;1;1;2;2;1;1;1;2;1;</td>\n",
       "      <td>netflix</td>\n",
       "    </tr>\n",
       "    <tr>\n",
       "      <th>2</th>\n",
       "      <td>1609997815</td>\n",
       "      <td>192.168.1.251</td>\n",
       "      <td>5353</td>\n",
       "      <td>224.0.0.251</td>\n",
       "      <td>5353</td>\n",
       "      <td>17</td>\n",
       "      <td>242</td>\n",
       "      <td>0</td>\n",
       "      <td>1</td>\n",
       "      <td>0</td>\n",
       "      <td>1609997815879;</td>\n",
       "      <td>242;</td>\n",
       "      <td>1;</td>\n",
       "      <td>netflix</td>\n",
       "    </tr>\n",
       "    <tr>\n",
       "      <th>3</th>\n",
       "      <td>1609997815</td>\n",
       "      <td>FE80::C37:1665:F5AB:BEAD</td>\n",
       "      <td>5353</td>\n",
       "      <td>FF02::FB</td>\n",
       "      <td>5353</td>\n",
       "      <td>17</td>\n",
       "      <td>262</td>\n",
       "      <td>0</td>\n",
       "      <td>1</td>\n",
       "      <td>0</td>\n",
       "      <td>1609997815879;</td>\n",
       "      <td>262;</td>\n",
       "      <td>1;</td>\n",
       "      <td>netflix</td>\n",
       "    </tr>\n",
       "    <tr>\n",
       "      <th>4</th>\n",
       "      <td>1609997815</td>\n",
       "      <td>192.168.1.21</td>\n",
       "      <td>5353</td>\n",
       "      <td>224.0.0.251</td>\n",
       "      <td>5353</td>\n",
       "      <td>17</td>\n",
       "      <td>1978</td>\n",
       "      <td>0</td>\n",
       "      <td>2</td>\n",
       "      <td>0</td>\n",
       "      <td>1609997815980;1609997815980;</td>\n",
       "      <td>1479;499;</td>\n",
       "      <td>1;1;</td>\n",
       "      <td>netflix</td>\n",
       "    </tr>\n",
       "    <tr>\n",
       "      <th>...</th>\n",
       "      <td>...</td>\n",
       "      <td>...</td>\n",
       "      <td>...</td>\n",
       "      <td>...</td>\n",
       "      <td>...</td>\n",
       "      <td>...</td>\n",
       "      <td>...</td>\n",
       "      <td>...</td>\n",
       "      <td>...</td>\n",
       "      <td>...</td>\n",
       "      <td>...</td>\n",
       "      <td>...</td>\n",
       "      <td>...</td>\n",
       "      <td>...</td>\n",
       "    </tr>\n",
       "    <tr>\n",
       "      <th>38668</th>\n",
       "      <td>1609899205</td>\n",
       "      <td>FE80::DA:EF9:2104:939</td>\n",
       "      <td>5353</td>\n",
       "      <td>FF02::FB</td>\n",
       "      <td>5353</td>\n",
       "      <td>17</td>\n",
       "      <td>170</td>\n",
       "      <td>0</td>\n",
       "      <td>1</td>\n",
       "      <td>0</td>\n",
       "      <td>1609899205906;</td>\n",
       "      <td>170;</td>\n",
       "      <td>1;</td>\n",
       "      <td>amazon</td>\n",
       "    </tr>\n",
       "    <tr>\n",
       "      <th>38669</th>\n",
       "      <td>1609899205</td>\n",
       "      <td>100.112.90.161</td>\n",
       "      <td>5353</td>\n",
       "      <td>224.0.0.251</td>\n",
       "      <td>5353</td>\n",
       "      <td>17</td>\n",
       "      <td>200</td>\n",
       "      <td>0</td>\n",
       "      <td>1</td>\n",
       "      <td>0</td>\n",
       "      <td>1609899205906;</td>\n",
       "      <td>200;</td>\n",
       "      <td>1;</td>\n",
       "      <td>amazon</td>\n",
       "    </tr>\n",
       "    <tr>\n",
       "      <th>38670</th>\n",
       "      <td>1609899205</td>\n",
       "      <td>FE80::189C:8BDF:B644:8B48</td>\n",
       "      <td>5353</td>\n",
       "      <td>FF02::FB</td>\n",
       "      <td>5353</td>\n",
       "      <td>17</td>\n",
       "      <td>220</td>\n",
       "      <td>0</td>\n",
       "      <td>1</td>\n",
       "      <td>0</td>\n",
       "      <td>1609899205907;</td>\n",
       "      <td>220;</td>\n",
       "      <td>1;</td>\n",
       "      <td>amazon</td>\n",
       "    </tr>\n",
       "    <tr>\n",
       "      <th>38671</th>\n",
       "      <td>1609899205</td>\n",
       "      <td>100.112.80.80</td>\n",
       "      <td>5353</td>\n",
       "      <td>224.0.0.251</td>\n",
       "      <td>5353</td>\n",
       "      <td>17</td>\n",
       "      <td>580</td>\n",
       "      <td>0</td>\n",
       "      <td>1</td>\n",
       "      <td>0</td>\n",
       "      <td>1609899205908;</td>\n",
       "      <td>580;</td>\n",
       "      <td>1;</td>\n",
       "      <td>amazon</td>\n",
       "    </tr>\n",
       "    <tr>\n",
       "      <th>38672</th>\n",
       "      <td>1609899205</td>\n",
       "      <td>100.112.99.36</td>\n",
       "      <td>5353</td>\n",
       "      <td>224.0.0.251</td>\n",
       "      <td>5353</td>\n",
       "      <td>17</td>\n",
       "      <td>809</td>\n",
       "      <td>0</td>\n",
       "      <td>2</td>\n",
       "      <td>0</td>\n",
       "      <td>1609899205911;1609899205911;</td>\n",
       "      <td>396;413;</td>\n",
       "      <td>1;1;</td>\n",
       "      <td>amazon</td>\n",
       "    </tr>\n",
       "  </tbody>\n",
       "</table>\n",
       "<p>2495901 rows × 14 columns</p>\n",
       "</div>"
      ],
      "text/plain": [
       "             Time                        IP1  Port1            IP2  Port2  \\\n",
       "0      1609997815              192.168.1.230  54915  192.168.1.255  54915   \n",
       "1      1609997815              192.168.1.191  60553   137.110.0.69    443   \n",
       "2      1609997815              192.168.1.251   5353    224.0.0.251   5353   \n",
       "3      1609997815   FE80::C37:1665:F5AB:BEAD   5353       FF02::FB   5353   \n",
       "4      1609997815               192.168.1.21   5353    224.0.0.251   5353   \n",
       "...           ...                        ...    ...            ...    ...   \n",
       "38668  1609899205      FE80::DA:EF9:2104:939   5353       FF02::FB   5353   \n",
       "38669  1609899205             100.112.90.161   5353    224.0.0.251   5353   \n",
       "38670  1609899205  FE80::189C:8BDF:B644:8B48   5353       FF02::FB   5353   \n",
       "38671  1609899205              100.112.80.80   5353    224.0.0.251   5353   \n",
       "38672  1609899205              100.112.99.36   5353    224.0.0.251   5353   \n",
       "\n",
       "       Proto  1->2Bytes  2->1Bytes  1->2Pkts  2->1Pkts  \\\n",
       "0         17        291          0         1         0   \n",
       "1         17       1463       1218         8         7   \n",
       "2         17        242          0         1         0   \n",
       "3         17        262          0         1         0   \n",
       "4         17       1978          0         2         0   \n",
       "...      ...        ...        ...       ...       ...   \n",
       "38668     17        170          0         1         0   \n",
       "38669     17        200          0         1         0   \n",
       "38670     17        220          0         1         0   \n",
       "38671     17        580          0         1         0   \n",
       "38672     17        809          0         2         0   \n",
       "\n",
       "                                            packet_times  \\\n",
       "0                                         1609997815467;   \n",
       "1      1609997815532;1609997815533;1609997815566;1609...   \n",
       "2                                         1609997815879;   \n",
       "3                                         1609997815879;   \n",
       "4                           1609997815980;1609997815980;   \n",
       "...                                                  ...   \n",
       "38668                                     1609899205906;   \n",
       "38669                                     1609899205906;   \n",
       "38670                                     1609899205907;   \n",
       "38671                                     1609899205908;   \n",
       "38672                       1609899205911;1609899205911;   \n",
       "\n",
       "                                            packet_sizes  \\\n",
       "0                                                   291;   \n",
       "1      288;278;118;118;184;253;118;118;270;157;118;11...   \n",
       "2                                                   242;   \n",
       "3                                                   262;   \n",
       "4                                              1479;499;   \n",
       "...                                                  ...   \n",
       "38668                                               170;   \n",
       "38669                                               200;   \n",
       "38670                                               220;   \n",
       "38671                                               580;   \n",
       "38672                                           396;413;   \n",
       "\n",
       "                          packet_dirs provider  \n",
       "0                                  1;  netflix  \n",
       "1      1;1;2;2;2;2;1;1;2;2;1;1;1;2;1;  netflix  \n",
       "2                                  1;  netflix  \n",
       "3                                  1;  netflix  \n",
       "4                                1;1;  netflix  \n",
       "...                               ...      ...  \n",
       "38668                              1;   amazon  \n",
       "38669                              1;   amazon  \n",
       "38670                              1;   amazon  \n",
       "38671                              1;   amazon  \n",
       "38672                            1;1;   amazon  \n",
       "\n",
       "[2495901 rows x 14 columns]"
      ]
     },
     "execution_count": 27,
     "metadata": {},
     "output_type": "execute_result"
    }
   ],
   "source": [
    "df"
   ]
  },
  {
   "cell_type": "code",
   "execution_count": 28,
   "metadata": {},
   "outputs": [
    {
     "data": {
      "text/plain": [
       "Index(['Time', 'IP1', 'Port1', 'IP2', 'Port2', 'Proto', '1->2Bytes',\n",
       "       '2->1Bytes', '1->2Pkts', '2->1Pkts', 'packet_times', 'packet_sizes',\n",
       "       'packet_dirs', 'provider'],\n",
       "      dtype='object')"
      ]
     },
     "execution_count": 28,
     "metadata": {},
     "output_type": "execute_result"
    }
   ],
   "source": [
    "df.columns"
   ]
  },
  {
   "cell_type": "code",
   "execution_count": 88,
   "metadata": {},
   "outputs": [],
   "source": [
    "replace={\"netflix\":1,\"amazon\":2,\"youtube\":3,\"other\":4}"
   ]
  },
  {
   "cell_type": "code",
   "execution_count": 30,
   "metadata": {},
   "outputs": [],
   "source": [
    "df1=df.replace(replace)"
   ]
  },
  {
   "cell_type": "code",
   "execution_count": 64,
   "metadata": {},
   "outputs": [
    {
     "ename": "KeyError",
     "evalue": "\"None of [Index(['1->2Bytes', '2->1Bytes', '1->2Pkts', '2->1Pkts'], dtype='object')] are in the [columns]\"",
     "output_type": "error",
     "traceback": [
      "\u001b[0;31m\u001b[0m",
      "\u001b[0;31mKeyError\u001b[0mTraceback (most recent call last)",
      "\u001b[0;32m<ipython-input-64-0bbfa6175df4>\u001b[0m in \u001b[0;36m<module>\u001b[0;34m\u001b[0m\n\u001b[0;32m----> 1\u001b[0;31m \u001b[0mX\u001b[0m\u001b[0;34m=\u001b[0m\u001b[0mdf1\u001b[0m\u001b[0;34m[\u001b[0m\u001b[0;34m[\u001b[0m\u001b[0;34m'1->2Bytes'\u001b[0m\u001b[0;34m,\u001b[0m\u001b[0;34m'2->1Bytes'\u001b[0m\u001b[0;34m,\u001b[0m \u001b[0;34m'1->2Pkts'\u001b[0m\u001b[0;34m,\u001b[0m \u001b[0;34m'2->1Pkts'\u001b[0m\u001b[0;34m]\u001b[0m\u001b[0;34m]\u001b[0m\u001b[0;34m\u001b[0m\u001b[0;34m\u001b[0m\u001b[0m\n\u001b[0m\u001b[1;32m      2\u001b[0m \u001b[0my\u001b[0m\u001b[0;34m=\u001b[0m\u001b[0mdf1\u001b[0m\u001b[0;34m[\u001b[0m\u001b[0;34m\"provider\"\u001b[0m\u001b[0;34m]\u001b[0m\u001b[0;34m\u001b[0m\u001b[0;34m\u001b[0m\u001b[0m\n",
      "\u001b[0;32m/opt/conda/lib/python3.7/site-packages/pandas/core/frame.py\u001b[0m in \u001b[0;36m__getitem__\u001b[0;34m(self, key)\u001b[0m\n\u001b[1;32m   2910\u001b[0m             \u001b[0;32mif\u001b[0m \u001b[0mis_iterator\u001b[0m\u001b[0;34m(\u001b[0m\u001b[0mkey\u001b[0m\u001b[0;34m)\u001b[0m\u001b[0;34m:\u001b[0m\u001b[0;34m\u001b[0m\u001b[0;34m\u001b[0m\u001b[0m\n\u001b[1;32m   2911\u001b[0m                 \u001b[0mkey\u001b[0m \u001b[0;34m=\u001b[0m \u001b[0mlist\u001b[0m\u001b[0;34m(\u001b[0m\u001b[0mkey\u001b[0m\u001b[0;34m)\u001b[0m\u001b[0;34m\u001b[0m\u001b[0;34m\u001b[0m\u001b[0m\n\u001b[0;32m-> 2912\u001b[0;31m             \u001b[0mindexer\u001b[0m \u001b[0;34m=\u001b[0m \u001b[0mself\u001b[0m\u001b[0;34m.\u001b[0m\u001b[0mloc\u001b[0m\u001b[0;34m.\u001b[0m\u001b[0m_get_listlike_indexer\u001b[0m\u001b[0;34m(\u001b[0m\u001b[0mkey\u001b[0m\u001b[0;34m,\u001b[0m \u001b[0maxis\u001b[0m\u001b[0;34m=\u001b[0m\u001b[0;36m1\u001b[0m\u001b[0;34m,\u001b[0m \u001b[0mraise_missing\u001b[0m\u001b[0;34m=\u001b[0m\u001b[0;32mTrue\u001b[0m\u001b[0;34m)\u001b[0m\u001b[0;34m[\u001b[0m\u001b[0;36m1\u001b[0m\u001b[0;34m]\u001b[0m\u001b[0;34m\u001b[0m\u001b[0;34m\u001b[0m\u001b[0m\n\u001b[0m\u001b[1;32m   2913\u001b[0m \u001b[0;34m\u001b[0m\u001b[0m\n\u001b[1;32m   2914\u001b[0m         \u001b[0;31m# take() does not accept boolean indexers\u001b[0m\u001b[0;34m\u001b[0m\u001b[0;34m\u001b[0m\u001b[0;34m\u001b[0m\u001b[0m\n",
      "\u001b[0;32m/opt/conda/lib/python3.7/site-packages/pandas/core/indexing.py\u001b[0m in \u001b[0;36m_get_listlike_indexer\u001b[0;34m(self, key, axis, raise_missing)\u001b[0m\n\u001b[1;32m   1252\u001b[0m             \u001b[0mkeyarr\u001b[0m\u001b[0;34m,\u001b[0m \u001b[0mindexer\u001b[0m\u001b[0;34m,\u001b[0m \u001b[0mnew_indexer\u001b[0m \u001b[0;34m=\u001b[0m \u001b[0max\u001b[0m\u001b[0;34m.\u001b[0m\u001b[0m_reindex_non_unique\u001b[0m\u001b[0;34m(\u001b[0m\u001b[0mkeyarr\u001b[0m\u001b[0;34m)\u001b[0m\u001b[0;34m\u001b[0m\u001b[0;34m\u001b[0m\u001b[0m\n\u001b[1;32m   1253\u001b[0m \u001b[0;34m\u001b[0m\u001b[0m\n\u001b[0;32m-> 1254\u001b[0;31m         \u001b[0mself\u001b[0m\u001b[0;34m.\u001b[0m\u001b[0m_validate_read_indexer\u001b[0m\u001b[0;34m(\u001b[0m\u001b[0mkeyarr\u001b[0m\u001b[0;34m,\u001b[0m \u001b[0mindexer\u001b[0m\u001b[0;34m,\u001b[0m \u001b[0maxis\u001b[0m\u001b[0;34m,\u001b[0m \u001b[0mraise_missing\u001b[0m\u001b[0;34m=\u001b[0m\u001b[0mraise_missing\u001b[0m\u001b[0;34m)\u001b[0m\u001b[0;34m\u001b[0m\u001b[0;34m\u001b[0m\u001b[0m\n\u001b[0m\u001b[1;32m   1255\u001b[0m         \u001b[0;32mreturn\u001b[0m \u001b[0mkeyarr\u001b[0m\u001b[0;34m,\u001b[0m \u001b[0mindexer\u001b[0m\u001b[0;34m\u001b[0m\u001b[0;34m\u001b[0m\u001b[0m\n\u001b[1;32m   1256\u001b[0m \u001b[0;34m\u001b[0m\u001b[0m\n",
      "\u001b[0;32m/opt/conda/lib/python3.7/site-packages/pandas/core/indexing.py\u001b[0m in \u001b[0;36m_validate_read_indexer\u001b[0;34m(self, key, indexer, axis, raise_missing)\u001b[0m\n\u001b[1;32m   1296\u001b[0m             \u001b[0;32mif\u001b[0m \u001b[0mmissing\u001b[0m \u001b[0;34m==\u001b[0m \u001b[0mlen\u001b[0m\u001b[0;34m(\u001b[0m\u001b[0mindexer\u001b[0m\u001b[0;34m)\u001b[0m\u001b[0;34m:\u001b[0m\u001b[0;34m\u001b[0m\u001b[0;34m\u001b[0m\u001b[0m\n\u001b[1;32m   1297\u001b[0m                 \u001b[0maxis_name\u001b[0m \u001b[0;34m=\u001b[0m \u001b[0mself\u001b[0m\u001b[0;34m.\u001b[0m\u001b[0mobj\u001b[0m\u001b[0;34m.\u001b[0m\u001b[0m_get_axis_name\u001b[0m\u001b[0;34m(\u001b[0m\u001b[0maxis\u001b[0m\u001b[0;34m)\u001b[0m\u001b[0;34m\u001b[0m\u001b[0;34m\u001b[0m\u001b[0m\n\u001b[0;32m-> 1298\u001b[0;31m                 \u001b[0;32mraise\u001b[0m \u001b[0mKeyError\u001b[0m\u001b[0;34m(\u001b[0m\u001b[0;34mf\"None of [{key}] are in the [{axis_name}]\"\u001b[0m\u001b[0;34m)\u001b[0m\u001b[0;34m\u001b[0m\u001b[0;34m\u001b[0m\u001b[0m\n\u001b[0m\u001b[1;32m   1299\u001b[0m \u001b[0;34m\u001b[0m\u001b[0m\n\u001b[1;32m   1300\u001b[0m             \u001b[0;31m# We (temporarily) allow for some missing keys with .loc, except in\u001b[0m\u001b[0;34m\u001b[0m\u001b[0;34m\u001b[0m\u001b[0;34m\u001b[0m\u001b[0m\n",
      "\u001b[0;31mKeyError\u001b[0m: \"None of [Index(['1->2Bytes', '2->1Bytes', '1->2Pkts', '2->1Pkts'], dtype='object')] are in the [columns]\""
     ]
    }
   ],
   "source": [
    "X=df1[['1->2Bytes','2->1Bytes', '1->2Pkts', '2->1Pkts']]\n",
    "y=df1[\"provider\"]"
   ]
  },
  {
   "cell_type": "code",
   "execution_count": 65,
   "metadata": {},
   "outputs": [
    {
     "data": {
      "text/plain": [
       "Index(['max_up', 'max_down', 'min_up', 'min_down', 'mean_up', 'mean_down',\n",
       "       'provider'],\n",
       "      dtype='object')"
      ]
     },
     "execution_count": 65,
     "metadata": {},
     "output_type": "execute_result"
    }
   ],
   "source": [
    "df1.columns"
   ]
  },
  {
   "cell_type": "code",
   "execution_count": 91,
   "metadata": {},
   "outputs": [],
   "source": [
    "X=df1[['max_up', 'max_down', 'min_up', 'min_down', 'mean_up', 'mean_down']]\n",
    "y=df1[\"provider\"]"
   ]
  },
  {
   "cell_type": "code",
   "execution_count": 92,
   "metadata": {},
   "outputs": [],
   "source": [
    "X_train, X_test, y_train, y_test = train_test_split(X, y, test_size=0.33, random_state=42)"
   ]
  },
  {
   "cell_type": "code",
   "execution_count": 93,
   "metadata": {},
   "outputs": [
    {
     "data": {
      "text/plain": [
       "RandomForestRegressor(bootstrap=True, ccp_alpha=0.0, criterion='mse',\n",
       "                      max_depth=4, max_features='auto', max_leaf_nodes=None,\n",
       "                      max_samples=None, min_impurity_decrease=0.0,\n",
       "                      min_impurity_split=None, min_samples_leaf=1,\n",
       "                      min_samples_split=2, min_weight_fraction_leaf=0.0,\n",
       "                      n_estimators=100, n_jobs=None, oob_score=False,\n",
       "                      random_state=0, verbose=0, warm_start=False)"
      ]
     },
     "execution_count": 93,
     "metadata": {},
     "output_type": "execute_result"
    }
   ],
   "source": [
    "regr = RandomForestRegressor(max_depth=4, random_state=0)\n",
    "regr.fit(X_train, y_train)"
   ]
  },
  {
   "cell_type": "code",
   "execution_count": 94,
   "metadata": {},
   "outputs": [
    {
     "data": {
      "text/plain": [
       "0.9044698889412619"
      ]
     },
     "execution_count": 94,
     "metadata": {},
     "output_type": "execute_result"
    }
   ],
   "source": [
    "regr.score(X_test,y_test)"
   ]
  },
  {
   "cell_type": "code",
   "execution_count": 96,
   "metadata": {},
   "outputs": [
    {
     "data": {
      "text/plain": [
       "array([False, False, False, False,  True,  True])"
      ]
     },
     "execution_count": 96,
     "metadata": {},
     "output_type": "execute_result"
    }
   ],
   "source": [
    "from sklearn.feature_selection import SelectFromModel\n",
    "sel = SelectFromModel(RandomForestRegressor(max_depth=4, random_state=0,n_estimators = 100))\n",
    "sel.fit(X_train, y_train)\n",
    "sel.get_support()"
   ]
  },
  {
   "cell_type": "code",
   "execution_count": 97,
   "metadata": {},
   "outputs": [
    {
     "name": "stdout",
     "output_type": "stream",
     "text": [
      "Index(['mean_up', 'mean_down'], dtype='object')\n"
     ]
    }
   ],
   "source": [
    "selected_feat= X_train.columns[(sel.get_support())]\n",
    "print(selected_feat)"
   ]
  },
  {
   "cell_type": "code",
   "execution_count": null,
   "metadata": {},
   "outputs": [],
   "source": []
  },
  {
   "cell_type": "code",
   "execution_count": 35,
   "metadata": {},
   "outputs": [
    {
     "ename": "NameError",
     "evalue": "name 'df_stats' is not defined",
     "output_type": "error",
     "traceback": [
      "\u001b[0;31m\u001b[0m",
      "\u001b[0;31mNameError\u001b[0mTraceback (most recent call last)",
      "\u001b[0;32m<ipython-input-35-b5e99e44c933>\u001b[0m in \u001b[0;36m<module>\u001b[0;34m\u001b[0m\n\u001b[0;32m----> 1\u001b[0;31m \u001b[0mdf_stats\u001b[0m\u001b[0;34m.\u001b[0m\u001b[0miloc\u001b[0m\u001b[0;34m[\u001b[0m\u001b[0;36m0\u001b[0m\u001b[0;34m]\u001b[0m\u001b[0;34m\u001b[0m\u001b[0;34m\u001b[0m\u001b[0m\n\u001b[0m",
      "\u001b[0;31mNameError\u001b[0m: name 'df_stats' is not defined"
     ]
    }
   ],
   "source": [
    "df_stats.iloc[0]"
   ]
  },
  {
   "cell_type": "code",
   "execution_count": 47,
   "metadata": {},
   "outputs": [],
   "source": [
    "df_test=all_df[0]\n",
    "df_test\n",
    "df_stats=df_test[['1->2Bytes','2->1Bytes']].agg([\"max\", \"min\", \"mean\"])\n",
    "max_up=df_stats.iloc[0][0]\n",
    "max_down=df_stats.iloc[0][1]\n",
    "min_down=df_stats.iloc[1][0]\n",
    "min_up=df_stats.iloc[1][1]\n",
    "mean_up=df_stats.iloc[2][0]\n",
    "df_test[\"provider\"]\n",
    "mean_down=df_stats.iloc[2][1]\n",
    "column1=[\"max_up\",\"max_down\",\"min_up\",\"min_down\",\"mean_up\",\"mean_down\",\"provider\"]\n",
    "row=pd.DataFrame(columns=column1,data=[[max_up,max_down,min_up,min_down,mean_up,mean_down,df_test[\"provider\"][0]]])"
   ]
  },
  {
   "cell_type": "code",
   "execution_count": 48,
   "metadata": {},
   "outputs": [
    {
     "data": {
      "text/html": [
       "<div>\n",
       "<style scoped>\n",
       "    .dataframe tbody tr th:only-of-type {\n",
       "        vertical-align: middle;\n",
       "    }\n",
       "\n",
       "    .dataframe tbody tr th {\n",
       "        vertical-align: top;\n",
       "    }\n",
       "\n",
       "    .dataframe thead th {\n",
       "        text-align: right;\n",
       "    }\n",
       "</style>\n",
       "<table border=\"1\" class=\"dataframe\">\n",
       "  <thead>\n",
       "    <tr style=\"text-align: right;\">\n",
       "      <th></th>\n",
       "      <th>max_up</th>\n",
       "      <th>max_down</th>\n",
       "      <th>min_up</th>\n",
       "      <th>min_down</th>\n",
       "      <th>mean_up</th>\n",
       "      <th>mean_down</th>\n",
       "      <th>provider</th>\n",
       "    </tr>\n",
       "  </thead>\n",
       "  <tbody>\n",
       "    <tr>\n",
       "      <th>0</th>\n",
       "      <td>112237.0</td>\n",
       "      <td>2316987.0</td>\n",
       "      <td>0.0</td>\n",
       "      <td>0.0</td>\n",
       "      <td>1518.02906</td>\n",
       "      <td>24302.12906</td>\n",
       "      <td>netflix</td>\n",
       "    </tr>\n",
       "  </tbody>\n",
       "</table>\n",
       "</div>"
      ],
      "text/plain": [
       "     max_up   max_down  min_up  min_down     mean_up    mean_down provider\n",
       "0  112237.0  2316987.0     0.0       0.0  1518.02906  24302.12906  netflix"
      ]
     },
     "execution_count": 48,
     "metadata": {},
     "output_type": "execute_result"
    }
   ],
   "source": [
    "row"
   ]
  },
  {
   "cell_type": "code",
   "execution_count": 87,
   "metadata": {},
   "outputs": [],
   "source": [
    "rows=[]\n",
    "column1=[\"max_up\",\"max_down\",\"min_up\",\"min_down\",\"mean_up\",\"mean_down\",\"provider\"]\n",
    "for x in range(len(all_df)):\n",
    "    df_test=all_df[x]\n",
    "    df_stats=df_test[['1->2Bytes','2->1Bytes']].agg([\"max\", \"min\", \"mean\"])\n",
    "    max_up=df_stats.iloc[0][0]\n",
    "    max_down=df_stats.iloc[0][1]\n",
    "    min_down=df_stats.iloc[1][0]\n",
    "    min_up=df_stats.iloc[1][1]\n",
    "    mean_up=df_stats.iloc[2][0]\n",
    "    df_test[\"provider\"]\n",
    "    mean_down=df_stats.iloc[2][1]\n",
    "    \n",
    "    row=[max_up,max_down,min_up,min_down,mean_up,mean_down,df_test[\"provider\"][0]]\n",
    "    rows.append(row)\n",
    "    \n",
    "    "
   ]
  },
  {
   "cell_type": "code",
   "execution_count": 89,
   "metadata": {},
   "outputs": [],
   "source": [
    "df=pd.DataFrame(columns=column1, data=rows)"
   ]
  },
  {
   "cell_type": "code",
   "execution_count": 90,
   "metadata": {},
   "outputs": [],
   "source": [
    "df1=df.replace(replace)"
   ]
  },
  {
   "cell_type": "code",
   "execution_count": 63,
   "metadata": {},
   "outputs": [
    {
     "data": {
      "text/html": [
       "<div>\n",
       "<style scoped>\n",
       "    .dataframe tbody tr th:only-of-type {\n",
       "        vertical-align: middle;\n",
       "    }\n",
       "\n",
       "    .dataframe tbody tr th {\n",
       "        vertical-align: top;\n",
       "    }\n",
       "\n",
       "    .dataframe thead th {\n",
       "        text-align: right;\n",
       "    }\n",
       "</style>\n",
       "<table border=\"1\" class=\"dataframe\">\n",
       "  <thead>\n",
       "    <tr style=\"text-align: right;\">\n",
       "      <th></th>\n",
       "      <th>max_up</th>\n",
       "      <th>max_down</th>\n",
       "      <th>min_up</th>\n",
       "      <th>min_down</th>\n",
       "      <th>mean_up</th>\n",
       "      <th>mean_down</th>\n",
       "      <th>provider</th>\n",
       "    </tr>\n",
       "  </thead>\n",
       "  <tbody>\n",
       "    <tr>\n",
       "      <th>0</th>\n",
       "      <td>112237.0</td>\n",
       "      <td>2316987.0</td>\n",
       "      <td>0.0</td>\n",
       "      <td>0.0</td>\n",
       "      <td>1518.029060</td>\n",
       "      <td>24302.129060</td>\n",
       "      <td>1</td>\n",
       "    </tr>\n",
       "    <tr>\n",
       "      <th>1</th>\n",
       "      <td>103271.0</td>\n",
       "      <td>1788874.0</td>\n",
       "      <td>0.0</td>\n",
       "      <td>0.0</td>\n",
       "      <td>3176.913043</td>\n",
       "      <td>56233.706004</td>\n",
       "      <td>1</td>\n",
       "    </tr>\n",
       "    <tr>\n",
       "      <th>2</th>\n",
       "      <td>56624.0</td>\n",
       "      <td>1237569.0</td>\n",
       "      <td>0.0</td>\n",
       "      <td>0.0</td>\n",
       "      <td>1467.028815</td>\n",
       "      <td>19241.935966</td>\n",
       "      <td>1</td>\n",
       "    </tr>\n",
       "    <tr>\n",
       "      <th>3</th>\n",
       "      <td>118675.0</td>\n",
       "      <td>4144126.0</td>\n",
       "      <td>0.0</td>\n",
       "      <td>0.0</td>\n",
       "      <td>1827.308564</td>\n",
       "      <td>39797.935768</td>\n",
       "      <td>1</td>\n",
       "    </tr>\n",
       "    <tr>\n",
       "      <th>4</th>\n",
       "      <td>53216.0</td>\n",
       "      <td>1435667.0</td>\n",
       "      <td>0.0</td>\n",
       "      <td>32.0</td>\n",
       "      <td>1183.149362</td>\n",
       "      <td>16961.806922</td>\n",
       "      <td>1</td>\n",
       "    </tr>\n",
       "    <tr>\n",
       "      <th>...</th>\n",
       "      <td>...</td>\n",
       "      <td>...</td>\n",
       "      <td>...</td>\n",
       "      <td>...</td>\n",
       "      <td>...</td>\n",
       "      <td>...</td>\n",
       "      <td>...</td>\n",
       "    </tr>\n",
       "    <tr>\n",
       "      <th>376</th>\n",
       "      <td>85250.0</td>\n",
       "      <td>984563.0</td>\n",
       "      <td>0.0</td>\n",
       "      <td>0.0</td>\n",
       "      <td>635.807130</td>\n",
       "      <td>2646.587511</td>\n",
       "      <td>2</td>\n",
       "    </tr>\n",
       "    <tr>\n",
       "      <th>377</th>\n",
       "      <td>54805.0</td>\n",
       "      <td>8616776.0</td>\n",
       "      <td>0.0</td>\n",
       "      <td>0.0</td>\n",
       "      <td>2843.142098</td>\n",
       "      <td>359407.355910</td>\n",
       "      <td>2</td>\n",
       "    </tr>\n",
       "    <tr>\n",
       "      <th>378</th>\n",
       "      <td>66098.0</td>\n",
       "      <td>815280.0</td>\n",
       "      <td>0.0</td>\n",
       "      <td>0.0</td>\n",
       "      <td>651.923517</td>\n",
       "      <td>3155.964799</td>\n",
       "      <td>2</td>\n",
       "    </tr>\n",
       "    <tr>\n",
       "      <th>379</th>\n",
       "      <td>106773.0</td>\n",
       "      <td>1640870.0</td>\n",
       "      <td>0.0</td>\n",
       "      <td>0.0</td>\n",
       "      <td>641.471916</td>\n",
       "      <td>2165.298868</td>\n",
       "      <td>2</td>\n",
       "    </tr>\n",
       "    <tr>\n",
       "      <th>380</th>\n",
       "      <td>67037.0</td>\n",
       "      <td>917167.0</td>\n",
       "      <td>0.0</td>\n",
       "      <td>0.0</td>\n",
       "      <td>612.368190</td>\n",
       "      <td>2121.633698</td>\n",
       "      <td>2</td>\n",
       "    </tr>\n",
       "  </tbody>\n",
       "</table>\n",
       "<p>381 rows × 7 columns</p>\n",
       "</div>"
      ],
      "text/plain": [
       "       max_up   max_down  min_up  min_down      mean_up      mean_down  \\\n",
       "0    112237.0  2316987.0     0.0       0.0  1518.029060   24302.129060   \n",
       "1    103271.0  1788874.0     0.0       0.0  3176.913043   56233.706004   \n",
       "2     56624.0  1237569.0     0.0       0.0  1467.028815   19241.935966   \n",
       "3    118675.0  4144126.0     0.0       0.0  1827.308564   39797.935768   \n",
       "4     53216.0  1435667.0     0.0      32.0  1183.149362   16961.806922   \n",
       "..        ...        ...     ...       ...          ...            ...   \n",
       "376   85250.0   984563.0     0.0       0.0   635.807130    2646.587511   \n",
       "377   54805.0  8616776.0     0.0       0.0  2843.142098  359407.355910   \n",
       "378   66098.0   815280.0     0.0       0.0   651.923517    3155.964799   \n",
       "379  106773.0  1640870.0     0.0       0.0   641.471916    2165.298868   \n",
       "380   67037.0   917167.0     0.0       0.0   612.368190    2121.633698   \n",
       "\n",
       "     provider  \n",
       "0           1  \n",
       "1           1  \n",
       "2           1  \n",
       "3           1  \n",
       "4           1  \n",
       "..        ...  \n",
       "376         2  \n",
       "377         2  \n",
       "378         2  \n",
       "379         2  \n",
       "380         2  \n",
       "\n",
       "[381 rows x 7 columns]"
      ]
     },
     "execution_count": 63,
     "metadata": {},
     "output_type": "execute_result"
    }
   ],
   "source": [
    "df1"
   ]
  },
  {
   "cell_type": "code",
   "execution_count": null,
   "metadata": {},
   "outputs": [],
   "source": [
    "\n",
    "import pandas as pd\n",
    "import numpy as np\n",
    "import os\n",
    "import regex as re\n",
    "import combine_output from data_clean\n",
    "from sklearn.ensemble import RandomForestClassifier\n",
    "from sklearn.model_selection import train_test_split\n",
    "\n",
    "\n"
   ]
  },
  {
   "cell_type": "code",
   "execution_count": null,
   "metadata": {},
   "outputs": [],
   "source": [
    "{\n",
    "    \"max_depth\":4,\n",
    "    \"random_state\":0,\n",
    "    \"n_estimators\" :100\n",
    "\n",
    "}"
   ]
  },
  {
   "cell_type": "code",
   "execution_count": null,
   "metadata": {},
   "outputs": [],
   "source": [
    "def model(data, model_configs):\n",
    "    x=data\n",
    "    x=x[x['vpn']==True]\n",
    "    \n",
    "\n",
    "    clf = RandomForestClassifier(max_depth=4, random_state=0,n_estimators =100)\n",
    "    X=x.drop([\"video\"],axis=1)\n",
    "    X.fillna(0,inplace=True)\n",
    "    y=x[\"video\"]\n",
    "\n",
    "    X_train, X_test, y_train, y_test = train_test_split(X, y, test_size=0.33, random_state=42)\n",
    "    clf.fit(X_train, y_train)\n",
    "    score=clf.score(X_test,y_test)\n",
    "    print(\"Classifier score is\", score)\n",
    "    return score\n"
   ]
  }
 ],
 "metadata": {
  "kernelspec": {
   "display_name": "Python 3",
   "language": "python",
   "name": "python3"
  },
  "language_info": {
   "codemirror_mode": {
    "name": "ipython",
    "version": 3
   },
   "file_extension": ".py",
   "mimetype": "text/x-python",
   "name": "python",
   "nbconvert_exporter": "python",
   "pygments_lexer": "ipython3",
   "version": "3.7.6"
  }
 },
 "nbformat": 4,
 "nbformat_minor": 4
}
