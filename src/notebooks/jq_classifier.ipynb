{
 "cells": [
  {
   "cell_type": "code",
   "execution_count": 1,
   "metadata": {},
   "outputs": [],
   "source": [
    "import pickle\n",
    "import matplotlib.pyplot as plt\n",
    "import numpy as np\n",
    "filename = '/datasets/home/home-01/41/041/jeq004/streaming_provider_classifier_inside_vpn/data/out/model.pkl'"
   ]
  },
  {
   "cell_type": "code",
   "execution_count": 2,
   "metadata": {},
   "outputs": [
    {
     "data": {
      "text/plain": [
       "'/home/jeq004/streaming_provider_classifier_inside_vpn/src/notebooks'"
      ]
     },
     "execution_count": 2,
     "metadata": {},
     "output_type": "execute_result"
    }
   ],
   "source": [
    "import os\n",
    "os.getcwd()"
   ]
  },
  {
   "cell_type": "code",
   "execution_count": 3,
   "metadata": {},
   "outputs": [],
   "source": [
    "loaded_model = pickle.load(open(filename, 'rb'))"
   ]
  },
  {
   "cell_type": "code",
   "execution_count": 4,
   "metadata": {},
   "outputs": [
    {
     "data": {
      "text/plain": [
       "array([0.12643439, 0.12833846, 0.0556225 , 0.16885874, 0.05267623,\n",
       "       0.04759409, 0.082938  , 0.05728013, 0.04417374, 0.04326276,\n",
       "       0.03032475, 0.04355072, 0.11894549])"
      ]
     },
     "execution_count": 4,
     "metadata": {},
     "output_type": "execute_result"
    }
   ],
   "source": [
    "loaded_model.feature_importances_"
   ]
  },
  {
   "cell_type": "code",
   "execution_count": 8,
   "metadata": {},
   "outputs": [],
   "source": [
    "# features = ['bytes_ratio',\n",
    "#                 'count_ratio',\n",
    "#                 'rolling_delays_10',\n",
    "#                 'rolling_delays_60',\n",
    "#                 'received_mean_size',\n",
    "#                 'sent_mean_size',\n",
    "#                 'sent_large_prop',\n",
    "#                 'sent_small_prop',\n",
    "#                 'received_large_prop',\n",
    "#                 'received_small_prop',\n",
    "#                 'streak_sent',\n",
    "#                 'streak_received',\n",
    "#                 'df_max_prom'            \n",
    "#            ]\n",
    "features = [\n",
    "        'smoothed_mean_delay_10s',\n",
    "        'smoothed_mean_delay_60s',\n",
    "        'received_mean_size',\n",
    "        'sent_mean_size',\n",
    "        'sent_small_prop',\n",
    "        'received_large_prop',\n",
    "        'received_small_prop',\n",
    "        'max_frequency_prominence',\n",
    "        'small_packet_ratio',\n",
    "        'medium_packet_ratio',\n",
    "        'large_packet_ratio',\n",
    "        'download_bytes_cv',\n",
    "        'upload_bytes_cv']\n",
    "features = np.array(features)"
   ]
  },
  {
   "cell_type": "code",
   "execution_count": 9,
   "metadata": {},
   "outputs": [
    {
     "data": {
      "image/png": "[encoded data removed]",
      "text/plain": [
       "<Figure size 432x288 with 1 Axes>"
      ]
     },
     "metadata": {
      "needs_background": "light"
     },
     "output_type": "display_data"
    }
   ],
   "source": [
    "sorted_idx = loaded_model.feature_importances_.argsort()\n",
    "plt.barh(features[sorted_idx], loaded_model.feature_importances_[sorted_idx] * 100)\n",
    "plt.xlabel(\"Feature Importance (%)\")\n",
    "plt.title('Feature Importances');"
   ]
  },
  {
   "cell_type": "code",
   "execution_count": 7,
   "metadata": {},
   "outputs": [
    {
     "data": {
      "text/plain": [
       "array([13, 14, 10,  9,  8,  5,  2,  7, 12,  4,  6,  0,  1, 11,  3])"
      ]
     },
     "execution_count": 7,
     "metadata": {},
     "output_type": "execute_result"
    }
   ],
   "source": [
    "sorted_idx"
   ]
  },
  {
   "cell_type": "code",
   "execution_count": 8,
   "metadata": {},
   "outputs": [],
   "source": [
    "y_pred = [0, 2, 1, 3, 0, 1, 2, 2, 1, 2, 3, 1, 3, 1, 0, 3, 2, 1, 2, 2, 3, 3, 0, 2,\n",
    " 2, 0, 0, 3, 3, 1, 2, 3, 2, 1, 1, 3, 1, 2, 0, 3, 3, 0, 2, 2, 3, 3, 1, 2,\n",
    " 3, 1, 2, 0, 2, 2, 3, 0, 3, 3, 2, 2, 0, 0, 0, 0, 0, 1, 3, 2, 1, 3, 0, 2,\n",
    " 2, 2, 3, 2, 2, 2, 0, 1, 2, 0, 3, 3, 2, 1, 3, 2, 3, 3, 2, 2, 2, 1, 3, 1,\n",
    " 2, 0, 2, 1, 2, 3, 2, 1, 1, 1, 2, 2, 2, 1, 1, 2, 1, 3, 2, 3, 1, 0, 1, 3,\n",
    " 2, 3, 2, 3, 2, 1, 2, 2, 3, 3, 2, 2, 3, 2, 3, 2, 2, 0, 3, 0, 0, 1, 2, 3,\n",
    " 2, 0, 0, 2, 0, 1, 2, 3, 3, 0, 0, 0, 2, 0, 0, 1, 0, 3, 2, 3, 3, 3, 2, 0,\n",
    " 1, 3, 3, 3, 3, 2, 1, 0, 0, 2, 2, 0, 3, 2, 3, 0, 0, 2, 2, 2, 0, 1, 0, 2,\n",
    " 2, 3, 2, 2, 2, 2, 3, 2, 0, 0, 0, 2, 1, 0, 2, 2, 0, 2, 1, 0, 2, 3, 3, 3,\n",
    " 0, 1, 3, 3, 2, 1, 1, 3, 2, 2, 0, 2, 1, 1, 0, 2, 0, 2, 1, 1, 0, 0, 2, 1,\n",
    " 2, 1, 1, 3, 1, 3, 1, 0, 2, 2, 1, 0, 1, 2, 0, 3, 2, 1, 2, 0, 3, 2, 2, 3,\n",
    " 1, 2, 2, 0, 2, 2, 3, 2, 3, 3, 1, 2, 0, 2, 3, 1, 2, 3, 2, 0, 3, 0, 3, 1,\n",
    " 3, 2, 2, 3, 1, 0, 1, 0, 0, 2, 1, 1, 3, 2, 3, 0, 1, 3, 2, 2, 3, 2, 1, 0,\n",
    " 3, 3, 1, 0, 0, 2, 2, 1, 0, 3, 2, 0, 0, 2, 1, 0, 1, 0, 2, 2, 1, 1, 2, 3,\n",
    " 2, 1, 1, 1, 0, 0, 2, 1, 3, 1, 0, 3, 1, 2, 3, 0, 2, 2, 1, 1, 2, 0, 0, 3,\n",
    " 0, 3, 1, 0, 2, 2, 0, 2, 0, 3, 2, 1, 2, 0, 2, 2, 2, 3, 3, 2, 1, 1, 0, 1,\n",
    " 2, 2, 1, 2, 1, 3, 3, 2, 1, 0, 3, 2, 2, 3, 0, 2, 0, 1, 2, 1, 2, 2, 2, 2,\n",
    " 2, 3, 0, 0, 0, 1, 2, 1, 1, 3, 1, 2, 1, 2, 1, 3, 1, 2, 0, 2, 2, 2, 1, 2,\n",
    " 0, 1, 1, 2, 3, 2, 3, 3, 2, 2, 0, 1, 1, 2, 0, 1, 2, 2, 2, 3, 0, 3, 2, 3,\n",
    " 0, 2, 2, 0, 0, 3, 3, 3, 0, 2, 1, 2, 2, 3, 1, 2, 2, 1, 2, 0, 2, 0, 2, 3,\n",
    " 3, 3, 2, 1, 1, 0, 2, 2, 0, 1, 1, 1, 1, 0, 1, 2, 0, 3, 1, 1, 1, 0, 2, 1,\n",
    " 0, 2, 0, 0, 2, 3, 1, 2, 1, 0, 2, 2, 2, 3, 1, 2, 2, 0, 3, 2, 1, 1, 2, 1,\n",
    " 3, 2, 0, 3, 1, 0, 3, 3, 2, 0, 1, 0, 3, 0, 0, 1, 2, 2, 3, 0, 1, 2, 0, 3,\n",
    " 3, 2, 1, 0, 1, 2, 1, 3, 3, 2, 1, 2, 1, 2, 2, 1, 0, 2, 0, 0,]"
   ]
  },
  {
   "cell_type": "code",
   "execution_count": 9,
   "metadata": {},
   "outputs": [],
   "source": [
    "y_test = [0, 2, 1, 3, 0, 1, 2, 2, 0, 2, 3, 1, 3, 1, 0, 3, 2, 1, 2, 2, 3, 3, 0, 2,\n",
    " 2, 0, 0, 3, 3, 1, 2, 3, 2, 1, 1, 3, 1, 2, 0, 3, 3, 0, 2, 2, 3, 3, 1, 2,\n",
    " 3, 1, 2, 0, 2, 2, 3, 0, 3, 3, 2, 2, 0, 3, 0, 0, 0, 1, 3, 2, 1, 3, 0, 2,\n",
    " 2, 2, 3, 2, 2, 2, 0, 1, 2, 0, 3, 3, 2, 1, 3, 0, 3, 3, 2, 2, 2, 1, 1, 1,\n",
    " 2, 0, 2, 1, 2, 3, 2, 1, 1, 1, 2, 2, 2, 1, 1, 2, 1, 3, 2, 3, 3, 0, 1, 3,\n",
    " 2, 3, 2, 3, 2, 1, 2, 2, 3, 3, 2, 2, 3, 2, 3, 2, 2, 0, 3, 0, 0, 1, 2, 3,\n",
    " 2, 0, 0, 2, 0, 1, 2, 3, 3, 0, 0, 0, 2, 0, 0, 1, 0, 3, 2, 3, 3, 3, 2, 0,\n",
    " 1, 3, 3, 3, 3, 2, 1, 0, 0, 2, 2, 0, 3, 2, 3, 0, 0, 2, 2, 2, 0, 1, 0, 2,\n",
    " 2, 3, 2, 2, 2, 2, 3, 2, 0, 0, 0, 2, 1, 0, 2, 2, 0, 2, 1, 0, 2, 3, 3, 3,\n",
    " 0, 1, 3, 3, 2, 1, 1, 3, 2, 2, 0, 2, 1, 1, 0, 2, 2, 2, 1, 1, 0, 0, 2, 1,\n",
    " 2, 1, 1, 3, 1, 3, 3, 0, 0, 2, 1, 0, 1, 2, 0, 3, 2, 1, 2, 0, 3, 2, 2, 3,\n",
    " 1, 2, 2, 0, 2, 2, 3, 2, 3, 3, 0, 2, 0, 2, 3, 1, 2, 3, 2, 0, 3, 0, 3, 1,\n",
    " 3, 2, 2, 3, 1, 0, 1, 0, 0, 2, 1, 1, 1, 2, 3, 0, 1, 3, 2, 2, 3, 2, 0, 0,\n",
    " 3, 3, 1, 0, 0, 2, 2, 1, 0, 3, 2, 0, 0, 2, 1, 0, 1, 0, 2, 2, 1, 1, 2, 3,\n",
    " 2, 1, 1, 1, 0, 0, 2, 1, 3, 1, 0, 3, 1, 2, 3, 0, 2, 2, 1, 1, 2, 0, 0, 3,\n",
    " 0, 3, 1, 0, 2, 2, 0, 2, 0, 3, 2, 1, 2, 0, 2, 2, 2, 3, 3, 2, 1, 1, 0, 1,\n",
    " 2, 2, 1, 2, 1, 3, 3, 2, 1, 0, 3, 2, 0, 3, 0, 2, 0, 1, 2, 1, 2, 2, 2, 2,\n",
    " 2, 3, 0, 0, 0, 1, 2, 1, 1, 3, 1, 2, 1, 2, 1, 3, 1, 2, 0, 2, 2, 2, 1, 2,\n",
    " 0, 1, 1, 2, 3, 2, 3, 3, 2, 2, 0, 1, 1, 2, 0, 1, 2, 2, 2, 1, 0, 3, 2, 3,\n",
    " 0, 2, 2, 0, 0, 3, 3, 3, 0, 2, 1, 2, 2, 3, 1, 2, 2, 1, 2, 0, 2, 0, 2, 3,\n",
    " 3, 3, 2, 1, 1, 0, 2, 2, 0, 1, 3, 1, 1, 0, 1, 2, 0, 3, 1, 1, 0, 0, 2, 1,\n",
    " 0, 2, 0, 0, 2, 3, 1, 2, 1, 0, 2, 2, 2, 3, 1, 2, 2, 0, 3, 2, 1, 1, 2, 1,\n",
    " 3, 2, 0, 3, 1, 0, 3, 3, 2, 0, 1, 0, 3, 0, 0, 1, 2, 2, 3, 0, 1, 2, 0, 3,\n",
    " 3, 2, 1, 0, 1, 2, 1, 3, 3, 2, 1, 2, 1, 2, 2, 1, 0, 2, 0, 0,]"
   ]
  },
  {
   "cell_type": "code",
   "execution_count": 11,
   "metadata": {},
   "outputs": [
    {
     "name": "stdout",
     "output_type": "stream",
     "text": [
      "              precision    recall  f1-score   support\n",
      "\n",
      "     youtube       0.98      0.95      0.96       128\n",
      " amazonprime       0.95      0.98      0.96       124\n",
      "     netflix       0.98      0.99      0.99       196\n",
      "       other       0.98      0.97      0.97       124\n",
      "\n",
      "    accuracy                           0.97       572\n",
      "   macro avg       0.97      0.97      0.97       572\n",
      "weighted avg       0.97      0.97      0.97       572\n",
      "\n"
     ]
    }
   ],
   "source": [
    "from sklearn.metrics import classification_report\n",
    "target_names = ['youtube', 'amazonprime', 'netflix', 'other']\n",
    "print(classification_report(y_test, y_pred, target_names=target_names))"
   ]
  },
  {
   "cell_type": "code",
   "execution_count": 15,
   "metadata": {},
   "outputs": [
    {
     "data": {
      "text/plain": [
       "<bound method ClassifierMixin.score of RandomForestClassifier(bootstrap=True, ccp_alpha=0.0, class_weight=None,\n",
       "                       criterion='gini', max_depth=None, max_features='auto',\n",
       "                       max_leaf_nodes=None, max_samples=None,\n",
       "                       min_impurity_decrease=0.0, min_impurity_split=None,\n",
       "                       min_samples_leaf=1, min_samples_split=2,\n",
       "                       min_weight_fraction_leaf=0.0, n_estimators=100,\n",
       "                       n_jobs=None, oob_score=False, random_state=None,\n",
       "                       verbose=0, warm_start=False)>"
      ]
     },
     "execution_count": 15,
     "metadata": {},
     "output_type": "execute_result"
    }
   ],
   "source": [
    "loaded_model."
   ]
  },
  {
   "cell_type": "code",
   "execution_count": null,
   "metadata": {},
   "outputs": [],
   "source": []
  }
 ],
 "metadata": {
  "kernelspec": {
   "display_name": "Python 3 (clean)",
   "language": "python",
   "name": "python3_clean"
  },
  "language_info": {
   "codemirror_mode": {
    "name": "ipython",
    "version": 3
   },
   "file_extension": ".py",
   "mimetype": "text/x-python",
   "name": "python",
   "nbconvert_exporter": "python",
   "pygments_lexer": "ipython3",
   "version": "3.7.6"
  }
 },
 "nbformat": 4,
 "nbformat_minor": 4
}
