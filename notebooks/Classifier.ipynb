{
 "cells": [
  {
   "cell_type": "code",
   "execution_count": 1,
   "metadata": {},
   "outputs": [],
   "source": [
    "#find_peaks, number of peaks over a window of time\n",
    "#interpacket delay\n",
    "#inter-peak delay, standard deviation of delays with respect to the mean\n",
    "#getting a good threshold for a \"peak\" size\n",
    "#summary stats of sizes and delays\n",
    "#rolling windows\n",
    "#neural networks for classifier\n",
    "#longest streaks\n",
    "#peak widths"
   ]
  },
  {
   "cell_type": "markdown",
   "metadata": {},
   "source": [
    "What is the smallest amount of data you can ask the classifier to classify? Use smaller chunks, but don't feature engineer to 1 sec time scale, but need more data to create stats such as SD (need at least 30 points)."
   ]
  },
  {
   "cell_type": "markdown",
   "metadata": {},
   "source": [
    "Fully classify streaming vs no streaming. All on VPN. Length of dataset is up to you, chunks are up to you, but do both small and large datasets, or create more data. Classify yes no and on each chunk. Create concrete features. Classify yes streaming or no streaming, output is array of yes or nos for ~2 minute chunks? Use charlies file splitting to split inputs. Want to pull in other people's data, run on as much data as possible. Push to git repo, keeping using git repo thats commented, to be reproduced in a docker container, give directions on how to run, and easily give inputs to run. Provide confidence levels. Look at failures, false positives. Throw results into slide deck. Upload docker image to docker hub, include dockerfile (not image) in github repo."
   ]
  },
  {
   "cell_type": "code",
   "execution_count": null,
   "metadata": {},
   "outputs": [],
   "source": []
  },
  {
   "cell_type": "code",
   "execution_count": null,
   "metadata": {},
   "outputs": [],
   "source": []
  }
 ],
 "metadata": {
  "kernelspec": {
   "display_name": "Python 3",
   "language": "python",
   "name": "python3"
  },
  "language_info": {
   "codemirror_mode": {
    "name": "ipython",
    "version": 3
   },
   "file_extension": ".py",
   "mimetype": "text/x-python",
   "name": "python",
   "nbconvert_exporter": "python",
   "pygments_lexer": "ipython3",
   "version": "3.7.0"
  }
 },
 "nbformat": 4,
 "nbformat_minor": 2
}
